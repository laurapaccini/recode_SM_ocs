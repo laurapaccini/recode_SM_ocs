{
 "cells": [
  {
   "cell_type": "code",
   "execution_count": 1,
   "metadata": {},
   "outputs": [],
   "source": [
    "import xarray as xr\n",
    "import matplotlib.pyplot as plt\n",
    "import seaborn as sns\n",
    "import pandas as pd\n",
    "from matplotlib import cm"
   ]
  },
  {
   "cell_type": "code",
   "execution_count": 2,
   "metadata": {},
   "outputs": [],
   "source": [
    "import matplotlib.animation as anim\n",
    "import mycolormaps as mycmap\n",
    "import mapstyle as ms\n",
    "import open_experiment as of\n",
    "import cartopy.crs as ccrs\n",
    "import numpy as np"
   ]
  },
  {
   "cell_type": "code",
   "execution_count": 3,
   "metadata": {},
   "outputs": [],
   "source": [
    "import tobac\n",
    "import iris\n",
    "from IPython.display import HTML, Image, display"
   ]
  },
  {
   "cell_type": "code",
   "execution_count": 4,
   "metadata": {},
   "outputs": [],
   "source": [
    "import time"
   ]
  },
  {
   "cell_type": "code",
   "execution_count": 5,
   "metadata": {},
   "outputs": [],
   "source": [
    "# Disable a few warnings:\n",
    "import warnings\n",
    "warnings.filterwarnings('ignore', category=UserWarning, append=True)\n",
    "warnings.filterwarnings('ignore', category=RuntimeWarning, append=True)\n",
    "warnings.filterwarnings('ignore', category=FutureWarning, append=True)\n",
    "warnings.filterwarnings('ignore',category=pd.io.pytables.PerformanceWarning)"
   ]
  },
  {
   "cell_type": "code",
   "execution_count": 6,
   "metadata": {},
   "outputs": [],
   "source": [
    "def update_lon(ds,longitude='lon'):\n",
    "    ds.coords[longitude] = (ds.coords[longitude] + 180) % 360 - 180\n",
    "    ds = ds.sortby(ds.lon)\n",
    "    return ds"
   ]
  },
  {
   "cell_type": "code",
   "execution_count": 7,
   "metadata": {},
   "outputs": [],
   "source": [
    "path='/scratch/wcq7pz/exp_levante_post/'"
   ]
  },
  {
   "cell_type": "code",
   "execution_count": 8,
   "metadata": {},
   "outputs": [],
   "source": [
    "import detect_objects as obj\n",
    "grid_area = xr.open_dataset('gridarea_dom3p5.nc')\n",
    "grid_area.coords['lon'] = (grid_area.coords['lon'] + 180) % 360 - 180\n",
    "grid_area = grid_area.sortby(grid_area.lon)"
   ]
  },
  {
   "cell_type": "code",
   "execution_count": 9,
   "metadata": {},
   "outputs": [],
   "source": [
    "sum_control_land = xr.open_dataset('sum_control_land.nc')\n",
    "sum_fixedSM_land = xr.open_dataset('sum_fixedSM_land.nc')"
   ]
  },
  {
   "cell_type": "code",
   "execution_count": 10,
   "metadata": {},
   "outputs": [],
   "source": [
    "topo5km = xr.open_dataset('../exp_levante_post/topography_dom03_5km.nc')\n",
    "topo5km.coords['lon'] = (topo5km.coords['lon'] + 180) % 360 - 180\n",
    "topo5km  = topo5km.sortby(topo5km.lon)\n"
   ]
  },
  {
   "cell_type": "code",
   "execution_count": 11,
   "metadata": {},
   "outputs": [],
   "source": [
    "# Repeat the variable along the time dimension of ds2\n",
    "ds_topo = topo5km['topography_c'].broadcast_like(sum_control_land['time'])"
   ]
  },
  {
   "cell_type": "code",
   "execution_count": 12,
   "metadata": {},
   "outputs": [],
   "source": [
    "AB_SM_control = sum_control_land.sel(lat=slice(-7,3),lon=slice(-73,-58)).copy()\n",
    "AB_SM_fixedSM = sum_fixedSM_land.sel(lat=slice(-7,3),lon=slice(-73,-58)).copy()"
   ]
  },
  {
   "cell_type": "code",
   "execution_count": 13,
   "metadata": {},
   "outputs": [],
   "source": [
    "# Disable a few warnings:\n",
    "import warnings\n",
    "warnings.filterwarnings('ignore', category=UserWarning, append=True)\n",
    "warnings.filterwarnings('ignore', category=RuntimeWarning, append=True)\n",
    "warnings.filterwarnings('ignore', category=FutureWarning, append=True)\n",
    "warnings.filterwarnings('ignore',category=pd.io.pytables.PerformanceWarning)"
   ]
  },
  {
   "cell_type": "code",
   "execution_count": 14,
   "metadata": {},
   "outputs": [],
   "source": [
    "# Create a function to calculate spatial standard deviations for a given box size\n",
    "def calculate_std_dev(size,ds,topo):\n",
    "\n",
    "    # Create an empty array to store standard deviations\n",
    "    std_devs = np.zeros(num_samples)\n",
    "    box_centers = []  # List to store center points\n",
    "    # Start measuring the execution time\n",
    "    start_time = time.time()\n",
    "    \n",
    "    for i in range(num_samples):\n",
    "        # Select a random time index\n",
    "        time_index = np.random.randint(0, len(ds.time))\n",
    "        #print(ds.isel(time=time_index).time)\n",
    "        # Select a random coordinate for the lower-left corner of the box within the domain\n",
    "        lon_random = np.random.uniform(lon_min, lon_max - size * grid_size)\n",
    "        lat_random = np.random.uniform(lat_min, lat_max - size * grid_size)\n",
    "        #print(lon_random,lat_random)\n",
    "        # Calculate the box coordinates\n",
    "        box_lon_min = lon_random\n",
    "        box_lon_max = lon_random + size * grid_size\n",
    "        box_lat_min = lat_random\n",
    "        box_lat_max = lat_random + size * grid_size\n",
    "\n",
    "\n",
    "        # Create a mask for the current random box\n",
    "        box_mask = (\n",
    "            (ds['lon'] >= box_lon_min) &\n",
    "            (ds['lon'] <= box_lon_max) &\n",
    "            (ds['lat'] >= box_lat_min) &\n",
    "            (ds['lat'] <= box_lat_max)\n",
    "        )\n",
    "        if (topo.isel(time=time_index).where(box_mask).median()<500)&(topo.isel(time=time_index).where(box_mask).std()<150):\n",
    "            \n",
    "            # Calculate the spatial standard deviation within the box\n",
    "            std_devs[i] = ds['w_so'].isel(time=time_index).where(box_mask).std()\n",
    "        else:\n",
    "            std_devs[i] = np.nan\n",
    "        # Calculate the center points of the box\n",
    "        center_lon = (box_lon_min + box_lon_max) / 2\n",
    "        center_lat = (box_lat_min + box_lat_max) / 2\n",
    "        box_centers.append((center_lat, center_lon))\n",
    "    \n",
    "\n",
    "    # Stop measuring the execution time\n",
    "    end_time = time.time()\n",
    "\n",
    "    # Calculate the elapsed time\n",
    "    elapsed_time = end_time - start_time\n",
    "\n",
    "    print(f\"Elapsed time: {elapsed_time} seconds\")\n",
    "\n",
    "    return std_devs, box_centers\n",
    "\n"
   ]
  },
  {
   "cell_type": "code",
   "execution_count": 15,
   "metadata": {},
   "outputs": [
    {
     "name": "stdout",
     "output_type": "stream",
     "text": [
      "Box Size: 2500 km^2, Number of Grid Points (lat x lon): 10 x 10\n",
      "Box Size: 3500 km^2, Number of Grid Points (lat x lon): 11 x 11\n",
      "Box Size: 5000 km^2, Number of Grid Points (lat x lon): 14 x 14\n",
      "Box Size: 6000 km^2, Number of Grid Points (lat x lon): 15 x 15\n",
      "Box Size: 7000 km^2, Number of Grid Points (lat x lon): 16 x 16\n",
      "Box Size: 8000 km^2, Number of Grid Points (lat x lon): 18 x 18\n",
      "Box Size: 9000 km^2, Number of Grid Points (lat x lon): 19 x 19\n",
      "Box Size: 10000 km^2, Number of Grid Points (lat x lon): 20 x 20\n",
      "Box Size: 12500 km^2, Number of Grid Points (lat x lon): 22 x 22\n",
      "Box Size: 15000 km^2, Number of Grid Points (lat x lon): 24 x 24\n",
      "Box Size: 17500 km^2, Number of Grid Points (lat x lon): 26 x 26\n",
      "Box Size: 20000 km^2, Number of Grid Points (lat x lon): 28 x 28\n"
     ]
    }
   ],
   "source": [
    "# Define the desired box sizes in square kilometers\n",
    "box_sizes_km2 = [2500,3500,5000, 6000,7000,8000,9000,10000,12500,15000, 17500,20000]; \n",
    "grid_size_deg = 0.045\n",
    "\n",
    "# Calculate the number of grid points for each box size\n",
    "num_grid_points = []\n",
    "\n",
    "for size_km2 in box_sizes_km2:\n",
    "    # Calculate the number of grid points along one dimension (e.g., latitude or longitude)\n",
    "    num_points = int(np.sqrt(size_km2 ) / (grid_size_deg*110))\n",
    "\n",
    "    num_grid_points.append((num_points, num_points))  # Assuming square boxes\n",
    "\n",
    "# Print the results\n",
    "for size_km2, num_points in zip(box_sizes_km2, num_grid_points):\n",
    "    print(f\"Box Size: {size_km2} km^2, Number of Grid Points (lat x lon): {num_points[0]} x {num_points[1]}\")"
   ]
  },
  {
   "cell_type": "code",
   "execution_count": 16,
   "metadata": {},
   "outputs": [],
   "source": [
    "#Bounds\n",
    "lon_min, lon_max = -73, -58 \n",
    "lat_min, lat_max = -7, 3 \n",
    "\n",
    "# Define fixed box sizes in grid points\n",
    "grid_size = 0.045  # Grid size in degrees\n",
    "box_sizes = [15,16,18,19,20,22,24,26,28,31,34,37,40]  # Number of grids in each dimension\n",
    "\n",
    "# Convert box sizes to degrees\n",
    "box_sizes_deg = [size * grid_size for size in box_sizes]\n",
    "\n",
    "# Number of random samples\n",
    "num_samples = 1000"
   ]
  },
  {
   "cell_type": "code",
   "execution_count": 17,
   "metadata": {},
   "outputs": [
    {
     "name": "stdout",
     "output_type": "stream",
     "text": [
      "Elapsed time: 9.587080955505371 seconds\n",
      "Elapsed time: 8.354809522628784 seconds\n",
      "Elapsed time: 7.868926048278809 seconds\n",
      "Elapsed time: 7.764848947525024 seconds\n",
      "Elapsed time: 7.713278532028198 seconds\n",
      "Elapsed time: 7.649331331253052 seconds\n",
      "Elapsed time: 7.643383502960205 seconds\n",
      "Elapsed time: 7.661965847015381 seconds\n",
      "Elapsed time: 7.664596796035767 seconds\n",
      "Elapsed time: 7.5708513259887695 seconds\n",
      "Elapsed time: 7.579064846038818 seconds\n",
      "Elapsed time: 7.575360059738159 seconds\n",
      "Elapsed time: 7.858503103256226 seconds\n"
     ]
    }
   ],
   "source": [
    "# del(results_control,SMstd_control,centers_control)\n",
    "# Calculate standard deviations for each box size\n",
    "results_control = {size: calculate_std_dev(size,AB_SM_control,ds_topo) for size in box_sizes}\n",
    "SMstd_control = {size: result[0] for size, result in results_control.items()}\n",
    "centers_control = {size: result[1] for size, result in results_control.items()}"
   ]
  },
  {
   "cell_type": "code",
   "execution_count": 18,
   "metadata": {},
   "outputs": [
    {
     "name": "stdout",
     "output_type": "stream",
     "text": [
      "Elapsed time: 9.399820327758789 seconds\n",
      "Elapsed time: 8.366615295410156 seconds\n",
      "Elapsed time: 7.90228796005249 seconds\n",
      "Elapsed time: 7.759553909301758 seconds\n",
      "Elapsed time: 7.703046798706055 seconds\n",
      "Elapsed time: 7.625471353530884 seconds\n",
      "Elapsed time: 7.597307443618774 seconds\n",
      "Elapsed time: 7.561395883560181 seconds\n",
      "Elapsed time: 7.582640886306763 seconds\n",
      "Elapsed time: 7.565683841705322 seconds\n",
      "Elapsed time: 7.552078008651733 seconds\n",
      "Elapsed time: 7.544987440109253 seconds\n",
      "Elapsed time: 7.556408405303955 seconds\n"
     ]
    }
   ],
   "source": [
    "# del(results_fixedSM,SMstd_fixedSM,centers_fixedSM)\n",
    "# Calculate standard deviations for each box size\n",
    "results_fixedSM = {size: calculate_std_dev(size,AB_SM_fixedSM,ds_topo) for size in box_sizes}\n",
    "SMstd_fixedSM = {size: result[0] for size, result in results_fixedSM.items()}\n",
    "centers_fixedSM = {size: result[1] for size, result in results_fixedSM.items()}"
   ]
  },
  {
   "cell_type": "code",
   "execution_count": 19,
   "metadata": {},
   "outputs": [],
   "source": [
    "colors_exp = {'control': 'darkcyan', 'fixedSM': 'dimgrey'}\n",
    "lw = 1.5"
   ]
  },
  {
   "cell_type": "code",
   "execution_count": 20,
   "metadata": {
    "tags": []
   },
   "outputs": [],
   "source": [
    "outplot = '/scratch/wcq7pz/output_plots/'"
   ]
  },
  {
   "cell_type": "code",
   "execution_count": 21,
   "metadata": {
    "tags": []
   },
   "outputs": [],
   "source": [
    "# Calculate the mean and standard error for each box size\n",
    "mean_std_devs_f = {size: np.nanmean(result) for size, result in SMstd_fixedSM.items()}\n",
    "std_errors_f = {size: np.nanstd(result)  for size, result in SMstd_fixedSM.items()}\n",
    "\n",
    "mean_std_devs_c = {size: np.nanmean(result) for size, result in SMstd_control.items()}\n",
    "std_errors_c = {size: np.nanstd(result)  for size, result in SMstd_control.items()}\n",
    "\n",
    "# Create lists of box sizes, means, and standard errors for plotting\n",
    "box_sizes_list_f = list(mean_std_devs_f.keys()); mean_std_devs_list_f = list(mean_std_devs_f.values()); std_errors_list_f = list(std_errors_f.values())\n",
    "box_sizes_list_c = list(mean_std_devs_c.keys()); mean_std_devs_list_c = list(mean_std_devs_c.values()); std_errors_list_c = list(std_errors_c.values())\n",
    "\n"
   ]
  },
  {
   "cell_type": "code",
   "execution_count": 22,
   "metadata": {},
   "outputs": [
    {
     "data": {
      "image/png": "[encoded data removed]",
      "text/plain": [
       "<Figure size 640x480 with 1 Axes>"
      ]
     },
     "metadata": {},
     "output_type": "display_data"
    }
   ],
   "source": [
    "# Create the plot\n",
    "plt.errorbar( [(el * 5)**2 for el in box_sizes_list_c], mean_std_devs_list_c, yerr=std_errors_list_c, color=colors_exp['control'],marker='o', linestyle='-')\n",
    "plt.errorbar( [(el * 5)**2 for el in box_sizes_list_f], mean_std_devs_list_f, yerr=std_errors_list_f, color=colors_exp['fixedSM'],marker='o', linestyle='-')\n",
    "\n",
    "plt.xlabel('Box Size [km$^2$]'); plt.ylabel('Spatial Standard Deviation of Soil Moisture');  plt.grid(True);\n",
    "\n",
    "plt.savefig(outplot+\"figure_S2.pdf\", format=\"pdf\",dpi=300,  bbox_inches=\"tight\", transparent=True)"
   ]
  },
  {
   "cell_type": "code",
   "execution_count": null,
   "metadata": {},
   "outputs": [],
   "source": []
  }
 ],
 "metadata": {
  "kernelspec": {
   "display_name": "env_LP2",
   "language": "python",
   "name": "cloned_myenv"
  },
  "language_info": {
   "codemirror_mode": {
    "name": "ipython",
    "version": 3
   },
   "file_extension": ".py",
   "mimetype": "text/x-python",
   "name": "python",
   "nbconvert_exporter": "python",
   "pygments_lexer": "ipython3",
   "version": "3.9.13"
  }
 },
 "nbformat": 4,
 "nbformat_minor": 4
}
