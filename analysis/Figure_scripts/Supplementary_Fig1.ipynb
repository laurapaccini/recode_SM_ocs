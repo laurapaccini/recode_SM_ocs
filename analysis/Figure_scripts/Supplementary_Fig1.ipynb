{
 "cells": [
  {
   "cell_type": "code",
   "execution_count": 1,
   "metadata": {},
   "outputs": [],
   "source": [
    "import xarray as xr\n",
    "import matplotlib.pyplot as plt\n",
    "import seaborn as sns\n",
    "import pandas as pd\n",
    "from matplotlib import cm"
   ]
  },
  {
   "cell_type": "code",
   "execution_count": 2,
   "metadata": {},
   "outputs": [],
   "source": [
    "import matplotlib.animation as anim\n",
    "import mycolormaps as mycmap\n",
    "import tools_plotting as to_plot\n",
    "import cartopy.crs as ccrs\n",
    "import numpy as np"
   ]
  },
  {
   "cell_type": "code",
   "execution_count": 3,
   "metadata": {},
   "outputs": [],
   "source": [
    "import time"
   ]
  },
  {
   "cell_type": "code",
   "execution_count": 5,
   "metadata": {},
   "outputs": [],
   "source": [
    "# Disable a few warnings:\n",
    "import warnings\n",
    "warnings.filterwarnings('ignore', category=UserWarning, append=True)\n",
    "warnings.filterwarnings('ignore', category=RuntimeWarning, append=True)\n",
    "warnings.filterwarnings('ignore', category=FutureWarning, append=True)\n",
    "warnings.filterwarnings('ignore',category=pd.io.pytables.PerformanceWarning)"
   ]
  },
  {
   "cell_type": "code",
   "execution_count": 6,
   "metadata": {},
   "outputs": [],
   "source": [
    "def update_lon(ds,longitude='lon'):\n",
    "    ds.coords[longitude] = (ds.coords[longitude] + 180) % 360 - 180\n",
    "    ds = ds.sortby(ds.lon)\n",
    "    return ds"
   ]
  },
  {
   "cell_type": "code",
   "execution_count": 7,
   "metadata": {},
   "outputs": [],
   "source": [
    "path='/scratch/wcq7pz/exp_levante_post/'"
   ]
  },
  {
   "cell_type": "code",
   "execution_count": 8,
   "metadata": {},
   "outputs": [],
   "source": [
    "import detect_objects as obj\n",
    "grid_area = xr.open_dataset('gridarea_dom3p5.nc')\n",
    "grid_area.coords['lon'] = (grid_area.coords['lon'] + 180) % 360 - 180\n",
    "grid_area = grid_area.sortby(grid_area.lon)"
   ]
  },
  {
   "cell_type": "code",
   "execution_count": 9,
   "metadata": {},
   "outputs": [],
   "source": [
    "sum_fixedSM_land = xr.open_dataset('../sum_fixedSM_land.nc')"
   ]
  },
  {
   "cell_type": "code",
   "execution_count": 10,
   "metadata": {},
   "outputs": [],
   "source": [
    "topo5km = xr.open_dataset('../../exp_levante_post/topography_dom03_5km.nc')\n",
    "topo5km.coords['lon'] = (topo5km.coords['lon'] + 180) % 360 - 180\n",
    "topo5km  = topo5km.sortby(topo5km.lon)\n"
   ]
  },
  {
   "cell_type": "code",
   "execution_count": 11,
   "metadata": {},
   "outputs": [],
   "source": [
    "# Repeat the variable along the time dimension of ds2\n",
    "ds_topo = topo5km['topography_c'].broadcast_like(sum_fixedSM_land['time'])"
   ]
  },
  {
   "cell_type": "code",
   "execution_count": 12,
   "metadata": {
    "tags": []
   },
   "outputs": [],
   "source": [
    "ds_area = grid_area['cell_area'].broadcast_like(sum_fixedSM_land['time'])"
   ]
  },
  {
   "cell_type": "code",
   "execution_count": 13,
   "metadata": {},
   "outputs": [],
   "source": [
    "AB_SM_fixedSM = sum_fixedSM_land.sel(lat=slice(-7,3),lon=slice(-73,-58)).copy()\n",
    "SESA_SM_fixedSM = sum_fixedSM_land.sel(lat=slice(-24,-14),lon=slice(-65,-50)).copy()"
   ]
  },
  {
   "cell_type": "code",
   "execution_count": 14,
   "metadata": {
    "tags": []
   },
   "outputs": [],
   "source": [
    "ocs_mask_AB = xr.open_dataset('nMask_control_ocs_AB.nc')"
   ]
  },
  {
   "cell_type": "code",
   "execution_count": 15,
   "metadata": {
    "tags": []
   },
   "outputs": [],
   "source": [
    "ds_area_ocs = ds_area.sel(time=ocs_mask_AB.time)\n",
    "AB_SM_fixedSM_ocs = AB_SM_fixedSM.sel(time=ocs_mask_AB.time)"
   ]
  },
  {
   "cell_type": "code",
   "execution_count": 16,
   "metadata": {
    "tags": []
   },
   "outputs": [],
   "source": [
    "ds_topo_ocs = ds_topo.sel(time=ocs_mask_AB.time)"
   ]
  },
  {
   "cell_type": "code",
   "execution_count": 18,
   "metadata": {},
   "outputs": [],
   "source": [
    "# Disable a few warnings:\n",
    "import warnings\n",
    "warnings.filterwarnings('ignore', category=UserWarning, append=True)\n",
    "warnings.filterwarnings('ignore', category=RuntimeWarning, append=True)\n",
    "warnings.filterwarnings('ignore', category=FutureWarning, append=True)\n",
    "warnings.filterwarnings('ignore',category=pd.io.pytables.PerformanceWarning)"
   ]
  },
  {
   "cell_type": "code",
   "execution_count": 21,
   "metadata": {},
   "outputs": [],
   "source": [
    "# Create a function to calculate spatial standard deviations for a given box size\n",
    "def calculate_std_dev(size,ds,topo):\n",
    "    \n",
    "    # Create an empty array to store standard deviations\n",
    "    std_devs = np.zeros(num_samples)\n",
    "    box_centers = []  # List to store center points\n",
    "    # Start measuring the execution time\n",
    "    start_time = time.time()\n",
    "    \n",
    "    for i in range(num_samples):\n",
    "        # Select a random time index\n",
    "        time_index = 100; #np.random.randint(0, len(ds.time))\n",
    "        # Select a random coordinate for the lower-left corner of the box within the domain\n",
    "        lon_random = np.random.uniform(lon_min, lon_max - size * grid_size)\n",
    "        lat_random = np.random.uniform(lat_min, lat_max - size * grid_size)\n",
    "        \n",
    "        # Calculate the box coordinates\n",
    "        box_lon_min = lon_random\n",
    "        box_lon_max = lon_random + size * grid_size\n",
    "        box_lat_min = lat_random\n",
    "        box_lat_max = lat_random + size * grid_size\n",
    "\n",
    "\n",
    "        # Create a mask for the current random box\n",
    "        box_mask = (\n",
    "            (ds['lon'] >= box_lon_min) &\n",
    "            (ds['lon'] <= box_lon_max) &\n",
    "            (ds['lat'] >= box_lat_min) &\n",
    "            (ds['lat'] <= box_lat_max)\n",
    "        )\n",
    "        if (topo.isel(time=time_index).where(box_mask).median()<500)&(topo.isel(time=time_index).where(box_mask).std()<150):\n",
    "            \n",
    "            # Calculate the spatial standard deviation within the box\n",
    "            std_devs[i] = ds['w_so'].isel(time=time_index).where(box_mask).std()\n",
    "        else:\n",
    "            std_devs[i] = np.nan\n",
    "        # Calculate the center points of the box\n",
    "        center_lon = (box_lon_min + box_lon_max) / 2\n",
    "        center_lat = (box_lat_min + box_lat_max) / 2\n",
    "        box_centers.append((center_lat, center_lon))    \n",
    "\n",
    "    # Stop measuring the execution time\n",
    "    end_time = time.time()\n",
    "\n",
    "    # Calculate the elapsed time\n",
    "    elapsed_time = end_time - start_time\n",
    "\n",
    "    print(f\"Elapsed time: {elapsed_time} seconds\")\n",
    "\n",
    "    return std_devs, box_centers"
   ]
  },
  {
   "cell_type": "code",
   "execution_count": 22,
   "metadata": {
    "tags": []
   },
   "outputs": [],
   "source": [
    "grid_size_deg = 0.045"
   ]
  },
  {
   "cell_type": "code",
   "execution_count": 25,
   "metadata": {
    "tags": []
   },
   "outputs": [
    {
     "name": "stdout",
     "output_type": "stream",
     "text": [
      "Box Size: 10000 km^2, Number of Grid Points (lat x lon): 20 x 20\n",
      "Box Size: 40000 km^2, Number of Grid Points (lat x lon): 40 x 40\n"
     ]
    }
   ],
   "source": [
    "box_sizes_km2 = [10000,40000]; grid_size_deg = 0.045\n",
    "\n",
    "# Calculate the number of grid points for each box size\n",
    "num_grid_points = []\n",
    "\n",
    "for size_km2 in box_sizes_km2:\n",
    "    # Calculate the number of grid points along one dimension (e.g., latitude or longitude)\n",
    "    num_points = int(np.sqrt(size_km2 ) / (grid_size_deg*110))\n",
    "\n",
    "    num_grid_points.append((num_points, num_points))  # Assuming square boxes\n",
    "\n",
    "# Print the results\n",
    "for size_km2, num_points in zip(box_sizes_km2, num_grid_points):\n",
    "    print(f\"Box Size: {size_km2} km^2, Number of Grid Points (lat x lon): {num_points[0]} x {num_points[1]}\")"
   ]
  },
  {
   "cell_type": "code",
   "execution_count": 26,
   "metadata": {},
   "outputs": [],
   "source": [
    "#Bounds\n",
    "lon_min, lon_max = -73, -58 \n",
    "lat_min, lat_max = -7, 3 \n",
    "\n",
    "# Define fixed box sizes in grid points\n",
    "grid_size = 0.045  # Grid size in degrees\n",
    "box_size = 40  #  Number of grids in each dimension\n",
    "\n",
    "# Convert box sizes to degrees\n",
    "box_sizes_deg = box_size * grid_size \n",
    "\n",
    "# Number of random samples\n",
    "num_samples = 1000"
   ]
  },
  {
   "cell_type": "code",
   "execution_count": 29,
   "metadata": {
    "tags": []
   },
   "outputs": [
    {
     "name": "stdout",
     "output_type": "stream",
     "text": [
      "Elapsed time: 7.356119871139526 seconds\n"
     ]
    }
   ],
   "source": [
    "# Apply the function for a single box size\n",
    "# del(results_fixedSM)\n",
    "results_fixedSM = calculate_std_dev(box_size, AB_SM_fixedSM_ocs, ds_topo_ocs)\n",
    "SMstd_fixedSM = results_fixedSM[0]\n",
    "centers_fixedSM = results_fixedSM[1]"
   ]
  },
  {
   "cell_type": "code",
   "execution_count": 30,
   "metadata": {
    "tags": []
   },
   "outputs": [],
   "source": [
    "# Calculate percentiles and identify indices\n",
    "percentile_90 = np.nanpercentile(SMstd_fixedSM, 90)\n",
    "percentile_99 = np.nanpercentile(SMstd_fixedSM, 99)\n",
    "percentile_10 = np.nanpercentile(SMstd_fixedSM, 10)\n",
    "percentile_1 = np.nanpercentile(SMstd_fixedSM, 1)\n",
    "\n",
    "high_std_indices = np.where((SMstd_fixedSM > percentile_90)&(SMstd_fixedSM < percentile_99))[0]\n",
    "low_std_indices  = np.where((SMstd_fixedSM < percentile_10)&(SMstd_fixedSM > percentile_1))[0]"
   ]
  },
  {
   "cell_type": "code",
   "execution_count": 31,
   "metadata": {
    "tags": []
   },
   "outputs": [
    {
     "name": "stdout",
     "output_type": "stream",
     "text": [
      "53.663602256774915 36.6133918762207 15.81933879852295 13.485345840454102\n"
     ]
    }
   ],
   "source": [
    "print(percentile_99,percentile_90,percentile_10,percentile_1)"
   ]
  },
  {
   "cell_type": "code",
   "execution_count": 33,
   "metadata": {
    "tags": []
   },
   "outputs": [],
   "source": [
    "def extract_ocs_area(centers, indices, box_size, ds_area_ocs, ocs_mask_AB, ds_topo, grid_size):\n",
    "    areas = []\n",
    "    ngrid = box_size // 2\n",
    "    \n",
    "    for idx in indices:\n",
    "        lat_center, lon_center = centers[idx]\n",
    "        box_sm = ds_area_ocs.sel(\n",
    "            lat=slice(lat_center - grid_size * ngrid, lat_center + grid_size * ngrid),\n",
    "            lon=slice(lon_center - grid_size * ngrid, lon_center + grid_size * ngrid))\n",
    "        box_topo = ds_topo.sel(\n",
    "            lat=slice(lat_center - grid_size * ngrid, lat_center + grid_size * ngrid),\n",
    "            lon=slice(lon_center - grid_size * ngrid, lon_center + grid_size * ngrid))\n",
    "        area = box_sm.where((ocs_mask_AB.mask_obs > 0)&(box_topo.median()<500)&(box_topo.std()<150)).sum(\n",
    "            ['lat', 'lon']) / 1e6  # Convert to km^2\n",
    "        \n",
    "        areas.append(area)\n",
    "    \n",
    "    return np.concatenate(areas)\n",
    "\n"
   ]
  },
  {
   "cell_type": "code",
   "execution_count": 34,
   "metadata": {
    "tags": []
   },
   "outputs": [],
   "source": [
    "# Extract areas for high and low std_dev cases\n",
    "# del(area_fixed_highSM,area_fixed_lowSM)\n",
    "area_fixed_highSM = extract_ocs_area(centers_fixedSM,\n",
    "                                     high_std_indices, box_size, ds_area_ocs, ocs_mask_AB, ds_topo_ocs, grid_size)\n",
    "area_fixed_lowSM = extract_ocs_area(centers_fixedSM, \n",
    "                                    low_std_indices, box_size, ds_area_ocs, ocs_mask_AB, ds_topo_ocs, grid_size)\n"
   ]
  },
  {
   "cell_type": "code",
   "execution_count": 35,
   "metadata": {
    "tags": []
   },
   "outputs": [
    {
     "data": {
      "text/plain": [
       "5609"
      ]
     },
     "execution_count": 35,
     "metadata": {},
     "output_type": "execute_result"
    }
   ],
   "source": [
    "len(area_fixed_highSM[area_fixed_highSM>2500]) ###1000 samples"
   ]
  },
  {
   "cell_type": "code",
   "execution_count": 36,
   "metadata": {
    "tags": []
   },
   "outputs": [
    {
     "data": {
      "text/plain": [
       "2930"
      ]
     },
     "execution_count": 36,
     "metadata": {},
     "output_type": "execute_result"
    }
   ],
   "source": [
    "len(area_fixed_highSM[area_fixed_highSM>2500]) ##500 samples"
   ]
  },
  {
   "cell_type": "code",
   "execution_count": 37,
   "metadata": {
    "tags": []
   },
   "outputs": [],
   "source": [
    "def get_hist(df, bins):\n",
    "    hist, _ = np.histogram(df, bins)\n",
    "    percent = [100*i/sum(hist) for i in hist]\n",
    "    return percent"
   ]
  },
  {
   "cell_type": "code",
   "execution_count": 38,
   "metadata": {
    "tags": []
   },
   "outputs": [],
   "source": [
    "bingS = (np.logspace(np.log10(2500),np.log10(2e4),9)); mid_bins = 0.5*(bingS[1:]+bingS[:-1])\n"
   ]
  },
  {
   "cell_type": "code",
   "execution_count": 41,
   "metadata": {
    "tags": []
   },
   "outputs": [],
   "source": [
    "outplot = '/scratch/wcq7pz/output_plots/'"
   ]
  },
  {
   "cell_type": "code",
   "execution_count": 47,
   "metadata": {
    "tags": []
   },
   "outputs": [],
   "source": [
    "def bootstrap_error(data, bins, n_samples):\n",
    "    samples = np.random.choice(data, (n_samples, len(data)), replace=True)\n",
    "    histograms = [np.histogram(sample, bins=bins)[0] for sample in samples]\n",
    "    percentual_frequencies = [100*hist / hist.sum() for hist in histograms]\n",
    "    return percentual_frequencies"
   ]
  },
  {
   "cell_type": "code",
   "execution_count": 48,
   "metadata": {
    "tags": []
   },
   "outputs": [],
   "source": [
    "errorbar_props = {'fmt': 'none', 'ecolor': 'dimgrey', 'capsize': 3}"
   ]
  },
  {
   "cell_type": "code",
   "execution_count": 54,
   "metadata": {
    "tags": []
   },
   "outputs": [
    {
     "data": {
      "image/png": "[encoded data removed]",
      "text/plain": [
       "<Figure size 300x300 with 1 Axes>"
      ]
     },
     "metadata": {},
     "output_type": "display_data"
    }
   ],
   "source": [
    "f, axs = plt.subplots(1, 1, figsize=(3, 3),layout='constrained',sharey=True); \n",
    "lw=1.5; sample=1000\n",
    "\n",
    "p1 = get_hist(area_fixed_highSM[area_fixed_highSM>2500],bingS); \n",
    "p2 = get_hist(area_fixed_lowSM[area_fixed_lowSM>2500],bingS);\n",
    "axs.plot(p1, mid_bins,  label='high_SMstd', color='grey');\n",
    "axs.plot(p2,  mid_bins,  label='low_SMstd', color='grey', ls=':');\n",
    "axs.set_yscale('log');\n",
    "axs.set_xlabel('Frequency [%]'); \n",
    "axs.set_ylabel('Size [$km ^{2}$]'); \n",
    "axs.set_title('Frequency distribution - Amazon',fontsize=9);axs.legend(fontsize=8,frameon=False); \n",
    "\n",
    "axs.errorbar(p1, mid_bins, xerr= np.std(bootstrap_error(area_fixed_highSM[area_fixed_highSM>2500], bingS, sample), axis=0), **errorbar_props)\n",
    "axs.errorbar(p2, mid_bins, xerr= np.std(bootstrap_error(area_fixed_lowSM[area_fixed_lowSM>2500], bingS, sample), axis=0), **errorbar_props)\n",
    "\n",
    "plt.savefig(outplot+\"fig_S2_ylog.pdf\", format=\"pdf\",dpi=300,  bbox_inches=\"tight\", transparent=True)"
   ]
  }
 ],
 "metadata": {
  "kernelspec": {
   "display_name": "env_LP2",
   "language": "python",
   "name": "cloned_myenv"
  },
  "language_info": {
   "codemirror_mode": {
    "name": "ipython",
    "version": 3
   },
   "file_extension": ".py",
   "mimetype": "text/x-python",
   "name": "python",
   "nbconvert_exporter": "python",
   "pygments_lexer": "ipython3",
   "version": "3.9.13"
  }
 },
 "nbformat": 4,
 "nbformat_minor": 4
}
