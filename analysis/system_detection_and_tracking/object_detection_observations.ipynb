{
 "cells": [
  {
   "cell_type": "code",
   "execution_count": 1,
   "metadata": {},
   "outputs": [],
   "source": [
    "import xarray as xr\n",
    "import numpy as np\n",
    "import matplotlib.pyplot as plt\n",
    "import pandas as pd\n",
    "from matplotlib import cm\n",
    "import dask"
   ]
  },
  {
   "cell_type": "code",
   "execution_count": 2,
   "metadata": {},
   "outputs": [],
   "source": [
    "import object_detection as obj"
   ]
  },
  {
   "cell_type": "code",
   "execution_count": 3,
   "metadata": {
    "tags": []
   },
   "outputs": [],
   "source": [
    "def addcols(df,dfsm):\n",
    "    df['time_zone'] = np.round(pd.to_numeric(df['longitude'],errors = 'coerce')/15)\n",
    "    df['local_time'] = df['time'] - (-1*df['time_zone']).astype('timedelta64[h]')\n",
    "    df['mean_ob'] = np.round(pd.to_numeric(df['mean'],errors='coerce'),2)\n",
    "    df['area_ob'] = np.round(pd.to_numeric(df['area'],errors='coerce'),2)\n",
    "    df['max_ob'] = np.round(pd.to_numeric(df['max_prec'],errors='coerce'),2)\n",
    "    df['radius'] = np.sqrt(df.area_ob/np.pi)\n",
    "    return df"
   ]
  },
  {
   "cell_type": "code",
   "execution_count": 4,
   "metadata": {},
   "outputs": [],
   "source": [
    "#Open IMERGdata\n",
    "imerg2015 = xr.open_dataset('../../IMERG/IMERG_hourly_2015.nc')\n",
    "imerg2016 = xr.open_dataset('../../IMERG/IMERG_hourly_2016.nc')\n",
    "imerg2017 = xr.open_dataset('../../IMERG/IMERG_hourly_2017.nc')\n",
    "imerg2018 = xr.open_dataset('../../IMERG/IMERG_hourly_2018.nc')\n",
    "imerg2019 = xr.open_dataset('../../IMERG/IMERG_hourly_2019.nc')\n",
    "imerg2020 = xr.open_dataset('../../IMERG/IMERG_hourly_2020.nc')"
   ]
  },
  {
   "cell_type": "code",
   "execution_count": 5,
   "metadata": {},
   "outputs": [],
   "source": [
    "# Disable a few warnings:\n",
    "import warnings\n",
    "warnings.filterwarnings('ignore', category=UserWarning, append=True)\n",
    "warnings.filterwarnings('ignore', category=RuntimeWarning, append=True)\n",
    "warnings.filterwarnings('ignore', category=FutureWarning, append=True)\n",
    "warnings.filterwarnings('ignore',category=pd.io.pytables.PerformanceWarning)"
   ]
  },
  {
   "cell_type": "code",
   "execution_count": 6,
   "metadata": {},
   "outputs": [],
   "source": [
    "#Open AB mask\n",
    "onlyab = xr.open_dataset('../onlyab5km.nc'); \n",
    "maskAB = onlyab.interp(lat = imerg2015.lat.values,lon = imerg2015.lon.values)"
   ]
  },
  {
   "cell_type": "code",
   "execution_count": 7,
   "metadata": {},
   "outputs": [],
   "source": [
    "grid_area = xr.open_dataset('../gridarea_dom03r10.nc')\n",
    "grid_area.coords['lon'] = (grid_area.coords['lon'] + 180) % 360 - 180\n",
    "grid_area = grid_area.sortby(grid_area.lon)"
   ]
  },
  {
   "cell_type": "code",
   "execution_count": 8,
   "metadata": {},
   "outputs": [],
   "source": [
    "grid_area = grid_area.interp(lat = imerg2015.lat.values,lon = imerg2015.lon.values)"
   ]
  },
  {
   "cell_type": "code",
   "execution_count": 9,
   "metadata": {},
   "outputs": [],
   "source": [
    "xi=-80; xf=-50; yi=-21; yf=6; #del(grid_np,lon,lat)\n",
    "grid_np =  grid_area.sel(lon=slice(xi,xf),lat=slice(yi,yf)).cell_area.values / 1e6\n",
    "lon = imerg2015.sel(lon=slice(xi,xf),lat=slice(yi,yf)).coords['lon'].values\n",
    "lat = imerg2015.sel(lon=slice(xi,xf),lat=slice(yi,yf)).coords['lat'].values"
   ]
  },
  {
   "cell_type": "code",
   "execution_count": 10,
   "metadata": {},
   "outputs": [],
   "source": [
    "##hourly precipitation\n",
    "array_2015 = np.squeeze(imerg2015.precip.where((maskAB.Band1>0),-1).sel(\n",
    "    lon=slice(-80,-50),lat=slice(-21,6)).values)\n",
    "array_2016 = np.squeeze(imerg2016.precip.where((maskAB.Band1>0),-1).sel(\n",
    "    lon=slice(-80,-50),lat=slice(-21,6)).values)\n",
    "array_2017 = np.squeeze(imerg2017.precip.where((maskAB.Band1>0),-1).sel(\n",
    "    lon=slice(-80,-50),lat=slice(-21,6)).values)\n",
    "array_2018 = np.squeeze(imerg2018.precip.where((maskAB.Band1>0),-1).sel(\n",
    "    lon=slice(-80,-50),lat=slice(-21,6)).values)\n",
    "array_2019 = np.squeeze(imerg2019.precip.where((maskAB.Band1>0),-1).sel(\n",
    "    lon=slice(-80,-50),lat=slice(-21,6)).values)\n",
    "array_2020 = np.squeeze(imerg2020.precip.where((maskAB.Band1>0),-1).sel(\n",
    "    lon=slice(-80,-50),lat=slice(-21,6)).values)"
   ]
  },
  {
   "cell_type": "code",
   "execution_count": 11,
   "metadata": {
    "tags": []
   },
   "outputs": [],
   "source": [
    "##Only with hourly precipitation:\n",
    "labels_2015, df_2015 = obj.precip_objects(array_2015,grid_np,lon1=lon,area_limit=2500,\n",
    "                                 lat1=lat,rr_limit=1,timeds=pd.Series(imerg2015.time))\n",
    "labels_2016, df_2016 = obj.precip_objects(array_2016,grid_np,lon1=lon,area_limit=2500,\n",
    "                                 lat1=lat,rr_limit=1,timeds=pd.Series(imerg2016.time));\n",
    "labels_2017, df_2017 = obj.precip_objects(array_2017,grid_np,lon1=lon,area_limit=2500,\n",
    "                                 lat1=lat,rr_limit=1,timeds=pd.Series(imerg2017.time));\n",
    "labels_2018, df_2018 = obj.precip_objects(array_2018,grid_np,lon1=lon,area_limit=2500,\n",
    "                                 lat1=lat,rr_limit=1,timeds=pd.Series(imerg2018.time))\n",
    "labels_2019, df_2019 = obj.precip_objects(array_2019,grid_np,lon1=lon,area_limit=2500,\n",
    "                                 lat1=lat,rr_limit=1,timeds=pd.Series(imerg2019.time))\n",
    "labels_2020, df_2020 = obj.precip_objects(array_2020,grid_np,lon1=lon,area_limit=2500,\n",
    "                                 lat1=lat,rr_limit=1,timeds=pd.Series(imerg2020.time))\n"
   ]
  },
  {
   "cell_type": "code",
   "execution_count": 18,
   "metadata": {
    "tags": []
   },
   "outputs": [
    {
     "data": {
      "text/plain": [
       "Index(['time', 'idx', 'area', 'mean', 'tot_prec', 'max_prec', 'y', 'x',\n",
       "       'longitude', 'latitude'],\n",
       "      dtype='object')"
      ]
     },
     "execution_count": 18,
     "metadata": {},
     "output_type": "execute_result"
    }
   ],
   "source": [
    "df_2015.columns"
   ]
  },
  {
   "cell_type": "code",
   "execution_count": 19,
   "metadata": {
    "tags": []
   },
   "outputs": [],
   "source": [
    "### only hourly IMERG\n",
    "df_2015_imerg = addcols(df_2015,\"\"); \n",
    "df_2016_imerg = addcols(df_2016,\"\"); \n",
    "df_2017_imerg = addcols(df_2017,\"\"); \n",
    "df_2018_imerg = addcols(df_2018,\"\"); \n",
    "df_2019_imerg = addcols(df_2019,\"\"); \n",
    "df_2020_imerg = addcols(df_2020,\"\");"
   ]
  },
  {
   "cell_type": "code",
   "execution_count": 20,
   "metadata": {
    "tags": []
   },
   "outputs": [],
   "source": [
    "df_2015_imerg.to_pickle('pkl_files/df_2015_imergmax.pkl')\n",
    "df_2016_imerg.to_pickle('pkl_files/df_2016_imergmax.pkl')\n",
    "df_2017_imerg.to_pickle('pkl_files/df_2017_imergmax.pkl')\n",
    "df_2018_imerg.to_pickle('pkl_files/df_2018_imergmax.pkl')\n",
    "df_2019_imerg.to_pickle('pkl_files/df_2019_imergmax.pkl')\n",
    "df_2020_imerg.to_pickle('pkl_files/df_2020_imergmax.pkl')"
   ]
  },
  {
   "cell_type": "code",
   "execution_count": 29,
   "metadata": {},
   "outputs": [],
   "source": [
    "## *************** SESA region  ***************\n",
    "xi=-64; xf=-50; yi=-26; yf=-15; del(grid_np,lon,lat)\n",
    "grid_np =  grid_area.sel(lon=slice(xi,xf),lat=slice(yi,yf)).cell_area.values / 1e6\n",
    "lon = imerg2015.sel(lon=slice(xi,xf),lat=slice(yi,yf)).coords['lon'].values\n",
    "lat = imerg2015.sel(lon=slice(xi,xf),lat=slice(yi,yf)).coords['lat'].values\n"
   ]
  },
  {
   "cell_type": "code",
   "execution_count": 30,
   "metadata": {},
   "outputs": [],
   "source": [
    "def select_array_values(datarray,xi=xi,xf=xf,yi=yi,yf=yf):\n",
    "    narray = np.squeeze(datarray.sel(lon=slice(xi,xf),lat=slice(yi,yf)))\n",
    "    # Check if all grid points for each time step are equal to 0\n",
    "    all_zeros = (narray == 0).all(dim=('lat', 'lon'));\n",
    "    # Replace the grid points with 1 where all values are 0\n",
    "    narray = narray.where(~all_zeros, 1)\n",
    "    return(narray.values)"
   ]
  },
  {
   "cell_type": "code",
   "execution_count": 31,
   "metadata": {},
   "outputs": [],
   "source": [
    "array_2015_sesa = select_array_values(imerg2015.precip); "
   ]
  },
  {
   "cell_type": "code",
   "execution_count": 32,
   "metadata": {},
   "outputs": [],
   "source": [
    "array_2016_sesa = select_array_values(imerg2016.precip); \n",
    "array_2017_sesa = select_array_values(imerg2017.precip); \n",
    "array_2018_sesa = select_array_values(imerg2018.precip); \n",
    "array_2019_sesa = select_array_values(imerg2019.precip); \n",
    "array_2020_sesa = select_array_values(imerg2020.precip); \n"
   ]
  },
  {
   "cell_type": "code",
   "execution_count": 29,
   "metadata": {},
   "outputs": [],
   "source": [
    "arraySM_2015_sesa = np.squeeze(smap2015.sm.sel(lon=slice(xi,xf),lat=slice(yi,yf)).values).transpose(2, 0, 1)"
   ]
  },
  {
   "cell_type": "code",
   "execution_count": 30,
   "metadata": {},
   "outputs": [
    {
     "name": "stdout",
     "output_type": "stream",
     "text": [
      "(468, 110, 140)\n"
     ]
    }
   ],
   "source": [
    "print(np.shape(arraySM_2015_sesa))"
   ]
  },
  {
   "cell_type": "code",
   "execution_count": 34,
   "metadata": {},
   "outputs": [],
   "source": [
    "## SESA Only with hourly precipitation:\n",
    "labels_2015_sesa, df_2015_sesa = obj.precip_objects(array_2015_sesa,grid_np,lon1=lon,area_limit=2500,\n",
    "                                 lat1=lat,rr_limit=1,timeds=pd.Series(imerg2015.time))\n",
    "labels_2016_sesa, df_2016_sesa = obj.precip_objects(array_2016_sesa,grid_np,lon1=lon,area_limit=2500,\n",
    "                                 lat1=lat,rr_limit=1,timeds=pd.Series(imerg2016.time));\n",
    "labels_2017_sesa, df_2017_sesa = obj.precip_objects(array_2017_sesa,grid_np,lon1=lon,area_limit=2500,\n",
    "                                 lat1=lat,rr_limit=1,timeds=pd.Series(imerg2017.time));\n",
    "labels_2018_sesa, df_2018_sesa = obj.precip_objects(array_2018_sesa,grid_np,lon1=lon,area_limit=2500,\n",
    "                                 lat1=lat,rr_limit=1,timeds=pd.Series(imerg2018.time))\n",
    "labels_2019_sesa, df_2019_sesa = obj.precip_objects(array_2019_sesa,grid_np,lon1=lon,area_limit=2500,\n",
    "                                 lat1=lat,rr_limit=1,timeds=pd.Series(imerg2019.time))\n",
    "labels_2020_sesa, df_2020_sesa = obj.precip_objects(array_2020_sesa,grid_np,lon1=lon,area_limit=2500,\n",
    "                                 lat1=lat,rr_limit=1,timeds=pd.Series(imerg2020.time))\n"
   ]
  },
  {
   "cell_type": "code",
   "execution_count": 36,
   "metadata": {},
   "outputs": [],
   "source": [
    "### only hourly IMERG\n",
    "df_2015_sesa_imerg = addcols(df_2015_sesa,\"\"); \n",
    "df_2016_sesa_imerg = addcols(df_2016_sesa,\"\"); \n",
    "df_2017_sesa_imerg = addcols(df_2017_sesa,\"\"); \n",
    "df_2018_sesa_imerg = addcols(df_2018_sesa,\"\"); \n",
    "df_2019_sesa_imerg = addcols(df_2019_sesa,\"\"); \n",
    "df_2020_sesa_imerg = addcols(df_2020_sesa,\"\");"
   ]
  },
  {
   "cell_type": "code",
   "execution_count": 37,
   "metadata": {},
   "outputs": [],
   "source": [
    "df_2015_sesa_imerg.to_pickle('pkl_files/df_2015_sesa_imergmax.pkl')\n",
    "df_2016_sesa_imerg.to_pickle('pkl_files/df_2016_sesa_imergmax.pkl')\n",
    "df_2017_sesa_imerg.to_pickle('pkl_files/df_2017_sesa_imergmax.pkl')\n",
    "df_2018_sesa_imerg.to_pickle('pkl_files/df_2018_sesa_imergmax.pkl')\n",
    "df_2019_sesa_imerg.to_pickle('pkl_files/df_2019_sesa_imergmax.pkl')\n",
    "df_2020_sesa_imerg.to_pickle('pkl_files/df_2020_sesa_imergmax.pkl')"
   ]
  },
  {
   "cell_type": "markdown",
   "metadata": {},
   "source": [
    "### saving masks "
   ]
  },
  {
   "cell_type": "code",
   "execution_count": 13,
   "metadata": {},
   "outputs": [],
   "source": [
    "def to_ds_mask(labels,ds,xi=-80,xf=-50,yi=-21,yf=6):\n",
    "    mask_label = [np.where(labels[i]!=0,1,labels[i]) for i in range(np.size(labels,0))]\n",
    "\n",
    "    ds_ocs = xr.Dataset(\n",
    "        { \"mask_ocs\": ([\"time\", \"lat\", \"lon\"], mask_label),\"labels_ocs\": ([\"time\", \"lat\", \"lon\"], labels)},\n",
    "        coords={ \"time\": ds.time, \n",
    "                \"lat\": ([\"lat\"], ds.sel(lat=slice(yi,yf)).lat.values),\n",
    "                \"lon\": ([\"lon\"], ds.sel(lon=slice(xi,xf)).lon.values)})\n",
    "    return(ds_ocs)"
   ]
  },
  {
   "cell_type": "code",
   "execution_count": 17,
   "metadata": {},
   "outputs": [],
   "source": [
    "xi=-80; xf=-50; yi=-21; yf=6;\n",
    "ds_ocs_2015 = to_ds_mask(labels_2015,imerg2015)\n",
    "ds_ocs_2016 = to_ds_mask(labels_2016,imerg2016)\n",
    "ds_ocs_2017 = to_ds_mask(labels_2017,imerg2017)\n",
    "ds_ocs_2018 = to_ds_mask(labels_2018,imerg2018)\n",
    "ds_ocs_2019 = to_ds_mask(labels_2019,imerg2019)\n",
    "ds_ocs_2020 = to_ds_mask(labels_2020,imerg2020)"
   ]
  },
  {
   "cell_type": "code",
   "execution_count": 18,
   "metadata": {},
   "outputs": [],
   "source": [
    "ds_ocs_2015.to_netcdf('imerg_masks/ds_ocs_hIMERG2015_AB_sizeT2500i1.nc')\n",
    "ds_ocs_2016.to_netcdf('imerg_masks/ds_ocs_hIMERG2016_AB_sizeT2500i1.nc')\n",
    "ds_ocs_2017.to_netcdf('imerg_masks/ds_ocs_hIMERG2017_AB_sizeT2500i1.nc')\n",
    "ds_ocs_2018.to_netcdf('imerg_masks/ds_ocs_hIMERG2018_AB_sizeT2500i1.nc')\n",
    "ds_ocs_2019.to_netcdf('imerg_masks/ds_ocs_hIMERG2019_AB_sizeT2500i1.nc')\n",
    "ds_ocs_2020.to_netcdf('imerg_masks/ds_ocs_hIMERG2020_AB_sizeT2500i1.nc')"
   ]
  },
  {
   "cell_type": "code",
   "execution_count": 40,
   "metadata": {},
   "outputs": [],
   "source": [
    "## *************** SESA region  ***************\n",
    "xi=-64; xf=-50; yi=-26; yf=-15;\n",
    "\n",
    "ds_ocs_sesa_2015 = to_ds_mask(labels_2015_sesa,imerg2015,xi=xi,xf=xf,yi=yi,yf=yf)\n",
    "ds_ocs_sesa_2016 = to_ds_mask(labels_2016_sesa,imerg2016,xi=xi,xf=xf,yi=yi,yf=yf)\n",
    "ds_ocs_sesa_2017 = to_ds_mask(labels_2017_sesa,imerg2017,xi=xi,xf=xf,yi=yi,yf=yf)\n",
    "ds_ocs_sesa_2018 = to_ds_mask(labels_2018_sesa,imerg2018,xi=xi,xf=xf,yi=yi,yf=yf)\n",
    "ds_ocs_sesa_2019 = to_ds_mask(labels_2019_sesa,imerg2019,xi=xi,xf=xf,yi=yi,yf=yf)\n",
    "ds_ocs_sesa_2020 = to_ds_mask(labels_2020_sesa,imerg2020,xi=xi,xf=xf,yi=yi,yf=yf)"
   ]
  },
  {
   "cell_type": "code",
   "execution_count": 41,
   "metadata": {},
   "outputs": [],
   "source": [
    "ds_ocs_sesa_2015.to_netcdf('imerg_masks/ds_ocs_hIMERG2015_sesa_sizeT2500i1.nc')\n",
    "ds_ocs_sesa_2016.to_netcdf('imerg_masks/ds_ocs_hIMERG2016_sesa_sizeT2500i1.nc')\n",
    "ds_ocs_sesa_2017.to_netcdf('imerg_masks/ds_ocs_hIMERG2017_sesa_sizeT2500i1.nc')\n",
    "ds_ocs_sesa_2018.to_netcdf('imerg_masks/ds_ocs_hIMERG2018_sesa_sizeT2500i1.nc')\n",
    "ds_ocs_sesa_2019.to_netcdf('imerg_masks/ds_ocs_hIMERG2019_sesa_sizeT2500i1.nc')\n",
    "ds_ocs_sesa_2020.to_netcdf('imerg_masks/ds_ocs_hIMERG2020_sesa_sizeT2500i1.nc')"
   ]
  }
 ],
 "metadata": {
  "kernelspec": {
   "display_name": "env_LP2",
   "language": "python",
   "name": "cloned_myenv"
  },
  "language_info": {
   "codemirror_mode": {
    "name": "ipython",
    "version": 3
   },
   "file_extension": ".py",
   "mimetype": "text/x-python",
   "name": "python",
   "nbconvert_exporter": "python",
   "pygments_lexer": "ipython3",
   "version": "3.9.13"
  }
 },
 "nbformat": 4,
 "nbformat_minor": 4
}
