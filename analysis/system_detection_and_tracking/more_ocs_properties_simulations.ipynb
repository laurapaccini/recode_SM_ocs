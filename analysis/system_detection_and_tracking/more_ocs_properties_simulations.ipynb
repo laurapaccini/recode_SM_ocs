{
 "cells": [
  {
   "cell_type": "code",
   "execution_count": 1,
   "id": "6c74ae2c",
   "metadata": {
    "tags": []
   },
   "outputs": [],
   "source": [
    "import xarray as xr\n",
    "import numpy as np\n",
    "import pandas as pd"
   ]
  },
  {
   "cell_type": "code",
   "execution_count": 2,
   "id": "6136ec69",
   "metadata": {
    "tags": []
   },
   "outputs": [],
   "source": [
    "import tools_for_tobac as toolstobac"
   ]
  },
  {
   "cell_type": "code",
   "execution_count": 3,
   "id": "db5f6043-f064-4303-ab60-6cb9b77c7fe9",
   "metadata": {
    "tags": []
   },
   "outputs": [],
   "source": [
    "from open_experiment import control_deaccu"
   ]
  },
  {
   "cell_type": "code",
   "execution_count": 4,
   "id": "fbf07c9b",
   "metadata": {
    "tags": []
   },
   "outputs": [],
   "source": [
    "path='/scratch/wcq7pz/exp_levante_post/'\n",
    "## open topography, land_fraction\n",
    "topo5km = xr.open_dataset(path+'topography_dom03_5km.nc')\n",
    "topo5km.coords['lon'] = (topo5km.coords['lon'] + 180) % 360 - 180\n",
    "topo5km  = topo5km.sortby(topo5km.lon)\n"
   ]
  },
  {
   "cell_type": "code",
   "execution_count": 5,
   "id": "8ce10162",
   "metadata": {
    "tags": []
   },
   "outputs": [],
   "source": [
    "ds_topo = topo5km['topography_c'].broadcast_like(control_deaccu['time'])\n"
   ]
  },
  {
   "cell_type": "code",
   "execution_count": 6,
   "id": "94ac732d",
   "metadata": {
    "tags": []
   },
   "outputs": [],
   "source": [
    "grid_area = xr.open_dataset('gridarea_dom3p5.nc')\n",
    "grid_area.coords['lon'] = (grid_area.coords['lon'] + 180) % 360 - 180\n",
    "grid_area = grid_area.sortby(grid_area.lon)"
   ]
  },
  {
   "cell_type": "markdown",
   "id": "a8fc089c-685a-40e7-8b87-9e5407592bea",
   "metadata": {},
   "source": [
    "### open OCS masks "
   ]
  },
  {
   "cell_type": "code",
   "execution_count": 7,
   "id": "9d3e516a-35ab-4b58-807b-949c3b8c82cf",
   "metadata": {
    "tags": []
   },
   "outputs": [],
   "source": [
    "## Save mask of OCS (objects lasting > 3h)  \n",
    "nMask_c_AB = xr.open_dataset('nMask_control_ocs_AB.nc'); \n",
    "nMask_f_AB = xr.open_dataset('nMask_fixedSM_ocs_AB.nc')\n",
    "\n",
    "nMask_c_SESA = xr.open_dataset('nMask_control_ocs_SESA.nc'); \n",
    "nMask_f_SESA = xr.open_dataset('nMask_fixedSM_ocs_SESA.nc')"
   ]
  },
  {
   "cell_type": "markdown",
   "id": "6c83523c",
   "metadata": {},
   "source": [
    "### prepare topography information"
   ]
  },
  {
   "cell_type": "code",
   "execution_count": 9,
   "id": "2ae4b83e-563f-42d9-bf3f-46645d341c1c",
   "metadata": {
    "tags": []
   },
   "outputs": [],
   "source": [
    "ds_topo = topo5km['topography_c'].broadcast_like(control_deaccu['time'])"
   ]
  },
  {
   "cell_type": "code",
   "execution_count": 10,
   "id": "a1c8c9e2-a29f-4716-9f12-d69f4933e579",
   "metadata": {
    "tags": []
   },
   "outputs": [],
   "source": [
    "# Filter the 'mask' variable to only include the values present in the original dataframe\n",
    "\n",
    "## Select objects with a lifetime larger than 3 hours\n",
    "c_topo_AB =  ds_topo.where(ds_topo['time'].isin(nMask_c_AB.time), drop=True)\n",
    "f_topo_AB =  ds_topo.where(ds_topo['time'].isin(nMask_f_AB.time), drop=True)\n",
    "\n",
    "c_topo_SESA =  ds_topo.where(ds_topo['time'].isin(nMask_c_SESA.time), drop=True)\n",
    "f_topo_SESA =  ds_topo.where(ds_topo['time'].isin(nMask_f_SESA.time), drop=True)"
   ]
  },
  {
   "cell_type": "markdown",
   "id": "4203e037-fba2-4bb4-a5f8-2ad7b0ab37e5",
   "metadata": {},
   "source": [
    "### identify objects"
   ]
  },
  {
   "cell_type": "code",
   "execution_count": 11,
   "id": "68c266cd",
   "metadata": {
    "tags": []
   },
   "outputs": [],
   "source": [
    "grid_area = xr.open_dataset('gridarea_dom3p5.nc')\n",
    "grid_area.coords['lon'] = (grid_area.coords['lon'] + 180) % 360 - 180\n",
    "grid_area = grid_area.sortby(grid_area.lon)\n"
   ]
  },
  {
   "cell_type": "code",
   "execution_count": 12,
   "id": "9ebc826a",
   "metadata": {
    "tags": []
   },
   "outputs": [],
   "source": [
    "## select grid_area corresponding to nMask boundaries\n",
    "gnpc_AB = grid_area.sel(lon=slice(nMask_c_AB.lon.min(),nMask_c_AB.lon.max()), \n",
    "                            lat=slice(nMask_c_AB.lat.min(),nMask_c_AB.lat.max())).cell_area.values / 1e6;\n",
    "gnpf_AB = grid_area.sel(lon=slice(nMask_f_AB.lon.min(),nMask_f_AB.lon.max()), \n",
    "                            lat=slice(nMask_f_AB.lat.min(),nMask_f_AB.lat.max())).cell_area.values / 1e6;\n"
   ]
  },
  {
   "cell_type": "code",
   "execution_count": 14,
   "id": "746ab196",
   "metadata": {
    "tags": []
   },
   "outputs": [],
   "source": [
    "#### Amazon \n",
    "arrayTOPO_control_AB = np.squeeze(c_topo_AB.sel(\n",
    "    lon=slice(nMask_c_AB.lon.min(),nMask_c_AB.lon.max()),lat=slice(nMask_c_AB.lat.min(),nMask_c_AB.lat.max())).values)\n",
    "arrayTOPO_fixedSM_AB = np.squeeze(f_topo_AB.sel(\n",
    "    lon=slice(nMask_f_AB.lon.min(),nMask_f_AB.lon.max()),lat=slice(nMask_f_AB.lat.min(),nMask_f_AB.lat.max())).values)"
   ]
  },
  {
   "cell_type": "code",
   "execution_count": 15,
   "id": "1dbd732c",
   "metadata": {
    "tags": []
   },
   "outputs": [],
   "source": [
    "## get object properties\n",
    "\n",
    "df_topo_c_AB = toolstobac.mask_var(nMask_c_AB.mask_obs,arrayTOPO_control_AB,gnpc_AB,lon1=nMask_c_AB.coords['lon'].values,\n",
    "                            lat1=nMask_c_AB.coords['lat'].values,rr_limit=0,timeds=pd.Series(nMask_c_AB.time))\n",
    "df_topo_f_AB = toolstobac.mask_var(nMask_f_AB.mask_obs,arrayTOPO_fixedSM_AB,gnpf_AB,lon1=nMask_f_AB.coords['lon'].values,\n",
    "                            lat1=nMask_f_AB.coords['lat'].values,rr_limit=0,timeds=pd.Series(nMask_f_AB.time))\n"
   ]
  },
  {
   "cell_type": "code",
   "execution_count": 17,
   "id": "d9ce3ffa",
   "metadata": {
    "tags": []
   },
   "outputs": [],
   "source": [
    "###### SESA \n",
    "\n",
    "array_sesa = (c_topo_SESA.sel(lon=slice(nMask_c_SESA.lon.min(),nMask_c_SESA.lon.max()),lat=slice(nMask_c_SESA.lat.min(),nMask_c_SESA.lat.max())))\n",
    "# Check if all grid points for each time step are equal to 0\n",
    "all_zeros = (array_sesa == 0).all(dim=('lat', 'lon'))\n",
    "# Replace the grid points with 1 where all values are 0\n",
    "array_sesa = array_sesa.where(~all_zeros, 1)\n",
    "arrayTOPO_control_SESA = array_sesa.values\n",
    "\n",
    "array_fsesa = (f_topo_SESA.sel(lon=slice(nMask_f_SESA.lon.min(),nMask_f_SESA.lon.max()),lat=slice(nMask_f_SESA.lat.min(),nMask_f_SESA.lat.max())))\n",
    "all_fzeros = (array_fsesa == 0).all(dim=('lat', 'lon'))\n",
    "array_fsesa = array_fsesa.where(~all_fzeros, 1)\n",
    "arrayTOPO_fixedSM_SESA = array_fsesa.values"
   ]
  },
  {
   "cell_type": "code",
   "execution_count": 23,
   "id": "307f2965",
   "metadata": {
    "tags": []
   },
   "outputs": [],
   "source": [
    "del(array_sesa,array_fsesa,all_zeros,all_fzeros)"
   ]
  },
  {
   "cell_type": "code",
   "execution_count": 18,
   "id": "88f4a453",
   "metadata": {
    "tags": []
   },
   "outputs": [],
   "source": [
    "gnpc_SESA = grid_area.sel(lon=slice(nMask_c_SESA.lon.min(),nMask_c_SESA.lon.max()), \n",
    "                            lat=slice(nMask_c_SESA.lat.min(),nMask_c_SESA.lat.max())).cell_area.values / 1e6;\n",
    "gnpf_SESA = grid_area.sel(lon=slice(nMask_f_SESA.lon.min(),nMask_f_SESA.lon.max()),\n",
    "                            lat=slice(nMask_f_SESA.lat.min(),nMask_f_SESA.lat.max())).cell_area.values / 1e6;"
   ]
  },
  {
   "cell_type": "code",
   "execution_count": 21,
   "id": "50d7cea1",
   "metadata": {
    "tags": []
   },
   "outputs": [],
   "source": [
    "## get object properties\n",
    "\n",
    "df_topo_c_SESA = toolstobac.mask_var(nMask_c_SESA.mask_obs,arrayTOPO_control_SESA,gnpc_SESA,lon1=nMask_c_SESA.coords['lon'].values,\n",
    "                            lat1=nMask_c_SESA.coords['lat'].values,rr_limit=0,timeds=pd.Series(nMask_c_SESA.time))\n",
    "df_topo_f_SESA = toolstobac.mask_var(nMask_f_SESA.mask_obs,arrayTOPO_fixedSM_SESA,gnpf_SESA,lon1=nMask_f_SESA.coords['lon'].values,\n",
    "                            lat1=nMask_f_SESA.coords['lat'].values,rr_limit=0,timeds=pd.Series(nMask_f_SESA.time))\n",
    "                           "
   ]
  },
  {
   "cell_type": "markdown",
   "id": "5fdb3a3f-21a4-4753-8f0e-ea0a8b89470a",
   "metadata": {},
   "source": [
    "### Add topo info to OCS_dataframe columns "
   ]
  },
  {
   "cell_type": "code",
   "execution_count": 22,
   "id": "6846fcf7-d113-4a12-9cd9-248ed1d5fb03",
   "metadata": {
    "tags": []
   },
   "outputs": [],
   "source": [
    "def add_topo_cols(df,df_topo):\n",
    "    df['topo_mean'] = pd.to_numeric(df_topo['mean'],errors = 'coerce');\n",
    "    df['topo_median'] = pd.to_numeric(df_topo['median'],errors = 'coerce');\n",
    "    df['topo_std'] = pd.to_numeric(df_topo['std'],errors = 'coerce');\n",
    "    df['topo_max'] = pd.to_numeric(df_topo['max'],errors = 'coerce');\n",
    "    return(df)"
   ]
  },
  {
   "cell_type": "code",
   "execution_count": 23,
   "id": "c1df7e45-aee9-4bc3-92a4-b27a92d53342",
   "metadata": {
    "tags": []
   },
   "outputs": [],
   "source": [
    "df_stage_c_AB = pd.read_pickle('pkl_files/df_stage_c_gt3h_AB.pkl');\n",
    "df_stage_f_AB = pd.read_pickle('pkl_files/df_stage_f_gt3h_AB.pkl')\n",
    "\n",
    "df_stage_c_SESA = pd.read_pickle('pkl_files/df_stage_c_gt3h_SESA.pkl');\n",
    "df_stage_f_SESA = pd.read_pickle('pkl_files/df_stage_f_gt3h_SESA.pkl')\n"
   ]
  },
  {
   "cell_type": "code",
   "execution_count": 24,
   "id": "ddaeab8d-2855-48bd-902b-6cf80db06076",
   "metadata": {
    "tags": []
   },
   "outputs": [],
   "source": [
    "df_ocs_control_AB = add_topo_cols(df_stage_c_AB,df_topo_c_AB);\n",
    "df_ocs_fixedSM_AB = add_topo_cols(df_stage_f_AB,df_topo_f_AB);\n"
   ]
  },
  {
   "cell_type": "code",
   "execution_count": 25,
   "id": "72cf910f-7f4d-422f-8ae5-08091dd6f291",
   "metadata": {
    "tags": []
   },
   "outputs": [],
   "source": [
    "df_ocs_control_SESA = add_topo_cols(df_stage_c_SESA,df_topo_c_SESA);\n",
    "df_ocs_fixedSM_SESA = add_topo_cols(df_stage_f_SESA,df_topo_f_SESA);\n",
    "\n"
   ]
  },
  {
   "cell_type": "code",
   "execution_count": 26,
   "id": "1056aeae-dac0-4849-91fb-9035b5263b91",
   "metadata": {
    "tags": []
   },
   "outputs": [],
   "source": [
    "df_ocs_control_AB.to_pickle('pkl_files/df_ocs_control_AB.pkl'); \n",
    "df_ocs_fixedSM_AB.to_pickle('pkl_files/df_ocs_fixedSM_AB.pkl');\n",
    "\n",
    "df_ocs_control_SESA.to_pickle('pkl_files/df_ocs_control_SESA.pkl'); \n",
    "df_ocs_fixedSM_SESA.to_pickle('pkl_files/df_ocs_fixedSM_SESA.pkl'); \n",
    "\n"
   ]
  },
  {
   "cell_type": "code",
   "execution_count": null,
   "id": "eb47b3ba-8cd7-4d8c-be5f-e1f8fd6456b6",
   "metadata": {},
   "outputs": [],
   "source": []
  }
 ],
 "metadata": {
  "kernelspec": {
   "display_name": "env_LP",
   "language": "python",
   "name": "myenv"
  },
  "language_info": {
   "codemirror_mode": {
    "name": "ipython",
    "version": 3
   },
   "file_extension": ".py",
   "mimetype": "text/x-python",
   "name": "python",
   "nbconvert_exporter": "python",
   "pygments_lexer": "ipython3",
   "version": "3.9.13"
  }
 },
 "nbformat": 4,
 "nbformat_minor": 5
}
