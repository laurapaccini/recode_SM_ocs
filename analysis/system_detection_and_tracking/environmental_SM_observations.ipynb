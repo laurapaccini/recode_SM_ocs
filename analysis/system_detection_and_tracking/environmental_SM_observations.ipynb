{
 "cells": [
  {
   "cell_type": "code",
   "execution_count": 1,
   "metadata": {
    "tags": []
   },
   "outputs": [],
   "source": [
    "import xarray as xr\n",
    "import pandas as pd\n",
    "import numpy as np"
   ]
  },
  {
   "cell_type": "code",
   "execution_count": 2,
   "metadata": {
    "tags": []
   },
   "outputs": [],
   "source": [
    "# Disable a few warnings:\n",
    "import warnings\n",
    "warnings.filterwarnings('ignore', category=UserWarning, append=True)\n",
    "warnings.filterwarnings('ignore', category=RuntimeWarning, append=True)\n",
    "warnings.filterwarnings('ignore', category=FutureWarning, append=True)\n",
    "warnings.filterwarnings('ignore',category=pd.io.pytables.PerformanceWarning)"
   ]
  },
  {
   "cell_type": "code",
   "execution_count": 3,
   "metadata": {
    "tags": []
   },
   "outputs": [],
   "source": [
    "#Open IMERGdata\n",
    "imerg2015 = xr.open_dataset('../../IMERG/IMERG_hourly_2015.nc')\n",
    "\n",
    "smap2015 = xr.open_dataset('../../SMAP_L4_all/SMAP_L4_SMroot_concat_2015_SA.nc')\n",
    "smap2016 = xr.open_dataset('../../SMAP_L4_all/SMAP_L4_SMroot_concat_2016_SA.nc')\n",
    "smap2017 = xr.open_dataset('../../SMAP_L4_all/SMAP_L4_SMroot_concat_2017_SA.nc')\n",
    "smap2018 = xr.open_dataset('../../SMAP_L4_all/SMAP_L4_SMroot_concat_2018_SA.nc')\n",
    "smap2019 = xr.open_dataset('../../SMAP_L4_all/SMAP_L4_SMroot_concat_2019_SA.nc')\n",
    "smap2020 = xr.open_dataset('../../SMAP_L4_all/SMAP_L4_SMroot_concat_2020_SA.nc')"
   ]
  },
  {
   "cell_type": "code",
   "execution_count": 4,
   "metadata": {
    "tags": []
   },
   "outputs": [],
   "source": [
    "smap2015 = smap2015.interp(lat = imerg2015.lat.values,lon = imerg2015.lon.values)\n",
    "smap2016 = smap2016.interp(lat = imerg2015.lat.values,lon = imerg2015.lon.values)\n",
    "smap2017 = smap2017.interp(lat = imerg2015.lat.values,lon = imerg2015.lon.values)\n",
    "smap2018 = smap2018.interp(lat = imerg2015.lat.values,lon = imerg2015.lon.values)\n",
    "smap2019 = smap2019.interp(lat = imerg2015.lat.values,lon = imerg2015.lon.values)\n",
    "smap2020 = smap2020.interp(lat = imerg2015.lat.values,lon = imerg2015.lon.values)"
   ]
  },
  {
   "cell_type": "code",
   "execution_count": 5,
   "metadata": {
    "tags": []
   },
   "outputs": [],
   "source": [
    "smap2015  = smap2015.where((smap2015.sm>=0)&(smap2015.sm<=0.9),np.nan)\n",
    "smap2016  = smap2016.where((smap2016.sm>=0)&(smap2016.sm<=0.9),np.nan)\n",
    "smap2017  = smap2017.where((smap2017.sm>=0)&(smap2017.sm<=0.9),np.nan)\n",
    "smap2018  = smap2018.where((smap2018.sm>=0)&(smap2018.sm<=0.9),np.nan)\n",
    "smap2019  = smap2019.where((smap2019.sm>=0)&(smap2019.sm<=0.9),np.nan)\n",
    "smap2020  = smap2020.where((smap2020.sm>=0)&(smap2020.sm<=0.9),np.nan)"
   ]
  },
  {
   "cell_type": "code",
   "execution_count": 6,
   "metadata": {
    "tags": []
   },
   "outputs": [],
   "source": [
    "merged_smap = xr.concat([smap2015,smap2016,smap2017,smap2018,smap2019,smap2020],\n",
    "                         'time')"
   ]
  },
  {
   "cell_type": "code",
   "execution_count": 7,
   "metadata": {
    "tags": []
   },
   "outputs": [],
   "source": [
    "path='/scratch/wcq7pz/exp_levante_post/'\n",
    "\n",
    "topo5km = xr.open_dataset(path+ 'topography_dom03_5km.nc')\n",
    "topo5km.coords['lon'] = (topo5km.coords['lon'] + 180) % 360 - 180\n",
    "topo5km  = topo5km.sortby(topo5km.lon)\n",
    "\n",
    "frland=xr.open_dataset(path+'fr_land_dom03_5km.nc')\n",
    "frland.coords['lon'] = (frland.coords['lon'] + 180) % 360 - 180\n",
    "frland = frland.sortby(frland.lon)"
   ]
  },
  {
   "cell_type": "code",
   "execution_count": 8,
   "metadata": {
    "tags": []
   },
   "outputs": [],
   "source": [
    "topo10km = topo5km.interp(lat = imerg2015.lat.values,lon = imerg2015.lon.values)\n",
    "frland10km = frland.interp(lat = imerg2015.lat.values,lon = imerg2015.lon.values)"
   ]
  },
  {
   "cell_type": "code",
   "execution_count": 9,
   "metadata": {
    "tags": []
   },
   "outputs": [],
   "source": [
    "# Repeat the variable along the time dimension of merged_SMAP\n",
    "ds_topo = topo10km['topography_c'].broadcast_like(merged_smap['time'])\n",
    "ds_landf = frland10km['fr_land'].broadcast_like(merged_smap['time'])"
   ]
  },
  {
   "cell_type": "code",
   "execution_count": 10,
   "metadata": {
    "tags": []
   },
   "outputs": [],
   "source": [
    "## Remove topography <500m and non-land areas\n",
    "nmerged_smap = merged_smap.where((ds_topo<=500)&(ds_landf==1),np.nan)"
   ]
  },
  {
   "cell_type": "code",
   "execution_count": 11,
   "metadata": {
    "tags": []
   },
   "outputs": [],
   "source": [
    "## OPEN DATAFRAMES WITH SYSTEMS' STATISTICS\n",
    "#### Amazon #####\n",
    "df_stage_ab_2015 = pd.read_pickle('imerg_pkl/df_imerg_stage_AB_2015.pkl')\n",
    "df_stage_ab_2016 = pd.read_pickle('imerg_pkl/df_imerg_stage_AB_2016.pkl')\n",
    "df_stage_ab_2017 = pd.read_pickle('imerg_pkl/df_imerg_stage_AB_2017.pkl')\n",
    "df_stage_ab_2018 = pd.read_pickle('imerg_pkl/df_imerg_stage_AB_2018.pkl')\n",
    "df_stage_ab_2019 = pd.read_pickle('imerg_pkl/df_imerg_stage_AB_2019.pkl')\n",
    "df_stage_ab_2020 = pd.read_pickle('imerg_pkl/df_imerg_stage_AB_2020.pkl')\n",
    "#### SESA #####\n",
    "df_stage_sesa_2015 = pd.read_pickle('imerg_pkl/df_imerg_stage_SESA_2015.pkl')\n",
    "df_stage_sesa_2016 = pd.read_pickle('imerg_pkl/df_imerg_stage_SESA_2016.pkl')\n",
    "df_stage_sesa_2017 = pd.read_pickle('imerg_pkl/df_imerg_stage_SESA_2017.pkl')\n",
    "df_stage_sesa_2018 = pd.read_pickle('imerg_pkl/df_imerg_stage_SESA_2018.pkl')\n",
    "df_stage_sesa_2019 = pd.read_pickle('imerg_pkl/df_imerg_stage_SESA_2019.pkl')\n",
    "df_stage_sesa_2020 = pd.read_pickle('imerg_pkl/df_imerg_stage_SESA_2020.pkl')"
   ]
  },
  {
   "cell_type": "code",
   "execution_count": 12,
   "metadata": {
    "tags": []
   },
   "outputs": [],
   "source": [
    "### Filter times absent in SMAP \n",
    "\n",
    "# # Create a set of times from 'ds' for faster lookup\n",
    "times_in_smap = nmerged_smap.coords['time'].values\n",
    "times_in_smap_set = set(times_in_smap)\n",
    "\n",
    "# Filter 'df' to only include rows where 'time' is in 'smap'\n",
    "#### Amazon #####\n",
    "df_imerg_AB_2015_filt = df_stage_ab_2015[df_stage_ab_2015['time'].isin(times_in_smap_set)]\n",
    "df_imerg_AB_2016_filt = df_stage_ab_2016[df_stage_ab_2016['time'].isin(times_in_smap_set)]\n",
    "df_imerg_AB_2017_filt = df_stage_ab_2017[df_stage_ab_2017['time'].isin(times_in_smap_set)]\n",
    "df_imerg_AB_2018_filt = df_stage_ab_2018[df_stage_ab_2018['time'].isin(times_in_smap_set)]\n",
    "df_imerg_AB_2019_filt = df_stage_ab_2019[df_stage_ab_2019['time'].isin(times_in_smap_set)]\n",
    "df_imerg_AB_2020_filt = df_stage_ab_2020[df_stage_ab_2020['time'].isin(times_in_smap_set)]\n",
    "\n",
    "#### SESA #####\n",
    "df_imerg_SESA_2015_filt = df_stage_sesa_2015[df_stage_sesa_2015['time'].isin(times_in_smap_set)]\n",
    "df_imerg_SESA_2016_filt = df_stage_sesa_2016[df_stage_sesa_2016['time'].isin(times_in_smap_set)]\n",
    "df_imerg_SESA_2017_filt = df_stage_sesa_2017[df_stage_sesa_2017['time'].isin(times_in_smap_set)]\n",
    "df_imerg_SESA_2018_filt = df_stage_sesa_2018[df_stage_sesa_2018['time'].isin(times_in_smap_set)]\n",
    "df_imerg_SESA_2019_filt = df_stage_sesa_2019[df_stage_sesa_2019['time'].isin(times_in_smap_set)]\n",
    "df_imerg_SESA_2020_filt = df_stage_sesa_2020[df_stage_sesa_2020['time'].isin(times_in_smap_set)]"
   ]
  },
  {
   "cell_type": "code",
   "execution_count": 13,
   "metadata": {
    "tags": []
   },
   "outputs": [
    {
     "name": "stdout",
     "output_type": "stream",
     "text": [
      "2232 10504\n"
     ]
    }
   ],
   "source": [
    "print(len(df_imerg_AB_2015_filt),len(df_stage_ab_2015))"
   ]
  },
  {
   "cell_type": "markdown",
   "metadata": {},
   "source": [
    "#### Environment definition : Select around \"dist\" times the radius of the systems"
   ]
  },
  {
   "cell_type": "code",
   "execution_count": 14,
   "metadata": {
    "tags": []
   },
   "outputs": [],
   "source": [
    "def mirrored(maxval, inc=1):\n",
    "    x = np.arange(inc, maxval, inc)\n",
    "    if x[-1] != maxval:\n",
    "        x = np.r_[x, maxval]\n",
    "    return np.r_[-x[::-1], 0, x]"
   ]
  },
  {
   "cell_type": "code",
   "execution_count": 16,
   "metadata": {
    "tags": []
   },
   "outputs": [],
   "source": [
    "def sel_composite(df,var1,namevar='w_so',dist=2,timelag=False,dt=1):\n",
    "    \"\"\"\n",
    "    df = dataframe\n",
    "    var1, var2 = 3D dataset of dimensions time,lat,lon for precipitation and SM, respectively.\n",
    "    \"\"\"    \n",
    "    if timelag==True:\n",
    "        \n",
    "        df_cat = pd.concat([pd.DataFrame([{'time':df.time.values[i]-pd.Timedelta(dt),'local_time':df.local_time.values[i]-pd.Timedelta(dt),\n",
    "                                           'feature':df.feature.values[i],\n",
    "        'mean_SM_env':var1.sel(time=df.time.values[i]-pd.Timedelta(dt)).sel(lon=slice(\n",
    "        df.longitude.values[i]-dist*df.radius.values[i]/110,df.longitude.values[i]+dist*df.radius.values[i]/110),lat=slice(\n",
    "        df.latitude.values[i]-dist*df.radius.values[i]/110,df.latitude.values[i]+dist*df.radius.values[i]/110)).mean(['lat','lon'])[namevar].values, \n",
    "        'std_SM_env':var1.sel(time=df.time.values[i]-pd.Timedelta(dt)).sel(lon=slice(\n",
    "        df.longitude.values[i]-dist*df.radius.values[i]/110,df.longitude.values[i]+dist*df.radius.values[i]/110),lat=slice(\n",
    "        df.latitude.values[i]-dist*df.radius.values[i]/110,df.latitude.values[i]+dist*df.radius.values[i]/110)).std(['lat','lon'])[namevar].values}]) for i in range(len(df))],\n",
    "ignore_index=False)\n",
    "    else:\n",
    "        df_cat = pd.concat([pd.DataFrame([{'time':df.time.values[i],'local_time':df.local_time.values[i],\n",
    "                                           'feature':df.feature.values[i],\n",
    "                            'mean_SM_env':var1.sel(time=df.time.values[i]).sel(lon=slice(\n",
    "                            df.longitude.values[i]-dist*df.radius.values[i]/110,df.longitude.values[i]+dist*df.radius.values[i]/110),lat=slice(\n",
    "                            df.latitude.values[i]-dist*df.radius.values[i]/110,df.latitude.values[i]+dist*df.radius.values[i]/110)).mean(['lat','lon'])[namevar].values, \n",
    "                            'std_SM_env':var1.sel(time=df.time.values[i]).sel(lon=slice(\n",
    "                            df.longitude.values[i]-dist*df.radius.values[i]/110,df.longitude.values[i]+dist*df.radius.values[i]/110),lat=slice(\n",
    "                            df.latitude.values[i]-dist*df.radius.values[i]/110,df.latitude.values[i]+dist*df.radius.values[i]/110)).std(['lat','lon'])[namevar].values}]) for i in range(len(df))],\n",
    "              ignore_index=False) \n",
    "       \n",
    "    df_cat = df_cat.reset_index(drop=True);\n",
    "    df_cat['mean_SM_env'] =df_cat['mean_SM_env'].astype(float)\n",
    "    df_cat['std_SM_env'] =df_cat['std_SM_env'].astype(float)\n",
    "    return df_cat"
   ]
  },
  {
   "cell_type": "markdown",
   "metadata": {},
   "source": [
    "#### Compute the mean and std of SM in the near environment"
   ]
  },
  {
   "cell_type": "code",
   "execution_count": 18,
   "metadata": {
    "tags": []
   },
   "outputs": [],
   "source": [
    "distance= 2;\n",
    "######################## AMAZON ########################\n",
    "smap_env_all_AB_2r_2015 = sel_composite(df_imerg_AB_2015_filt[(\n",
    "   df_imerg_AB_2015_filt.longitude>-76.5)&(df_imerg_AB_2015_filt.longitude<-55.5)].reset_index(drop=True),\n",
    "                               nmerged_smap,dist=distance,namevar='sm')\n",
    "smap_env_all_AB_2r_2016 = sel_composite(df_imerg_AB_2016_filt[(\n",
    "   df_imerg_AB_2016_filt.longitude>-76.5)&(df_imerg_AB_2016_filt.longitude<-55.5)].reset_index(drop=True),\n",
    "                               nmerged_smap,dist=distance,namevar='sm')\n",
    "smap_env_all_AB_2r_2017 = sel_composite(df_imerg_AB_2017_filt[(\n",
    "   df_imerg_AB_2017_filt.longitude>-76.5)&(df_imerg_AB_2017_filt.longitude<-55.5)].reset_index(drop=True),\n",
    "                               nmerged_smap,dist=distance,namevar='sm')\n",
    "smap_env_all_AB_2r_2018 = sel_composite(df_imerg_AB_2018_filt[(\n",
    "   df_imerg_AB_2018_filt.longitude>-76.5)&(df_imerg_AB_2018_filt.longitude<-55.5)].reset_index(drop=True),\n",
    "                               nmerged_smap,dist=distance,namevar='sm')\n",
    "smap_env_all_AB_2r_2019 = sel_composite(df_imerg_AB_2019_filt[(\n",
    "   df_imerg_AB_2019_filt.longitude>-76.5)&(df_imerg_AB_2019_filt.longitude<-55.5)].reset_index(drop=True),\n",
    "                               nmerged_smap,dist=distance,namevar='sm')\n",
    "smap_env_all_AB_2r_2020 = sel_composite(df_imerg_AB_2020_filt[(\n",
    "   df_imerg_AB_2020_filt.longitude>-76.5)&(df_imerg_AB_2020_filt.longitude<-55.5)].reset_index(drop=True),\n",
    "                               nmerged_smap,dist=distance,namevar='sm')\n",
    "\n",
    "######################## SESA ########################\n",
    "smap_env_all_SESA_2r_2015 = sel_composite(df_imerg_SESA_2015_filt[(\n",
    "    df_imerg_SESA_2015_filt.longitude>-76.5)&(df_imerg_SESA_2015_filt.latitude>-24.5)].reset_index(drop=True),\n",
    "                               nmerged_smap,dist=distance,namevar='sm')\n",
    "smap_env_all_SESA_2r_2016 = sel_composite(df_imerg_SESA_2016_filt[(\n",
    "    df_imerg_SESA_2016_filt.longitude>-76.5)&(df_imerg_SESA_2016_filt.latitude>-24.5)].reset_index(drop=True),\n",
    "                               nmerged_smap,dist=distance,namevar='sm')\n",
    "smap_env_all_SESA_2r_2017 = sel_composite(df_imerg_SESA_2017_filt[(\n",
    "    df_imerg_SESA_2017_filt.longitude>-76.5)&(df_imerg_SESA_2017_filt.latitude>-24.5)].reset_index(drop=True),\n",
    "                               nmerged_smap,dist=distance,namevar='sm')\n",
    "smap_env_all_SESA_2r_2018 = sel_composite(df_imerg_SESA_2018_filt[(\n",
    "    df_imerg_SESA_2018_filt.longitude>-76.5)&(df_imerg_SESA_2018_filt.latitude>-24.5)].reset_index(drop=True),\n",
    "                               nmerged_smap,dist=distance,namevar='sm')\n",
    "smap_env_all_SESA_2r_2019 = sel_composite(df_imerg_SESA_2019_filt[(\n",
    "    df_imerg_SESA_2019_filt.longitude>-76.5)&(df_imerg_SESA_2019_filt.latitude>-24.5)].reset_index(drop=True),\n",
    "                               nmerged_smap,dist=distance,namevar='sm')\n",
    "smap_env_all_SESA_2r_2020 = sel_composite(df_imerg_SESA_2020_filt[(\n",
    "    df_imerg_SESA_2020_filt.longitude>-76.5)&(df_imerg_SESA_2020_filt.latitude>-24.5)].reset_index(drop=True),\n",
    "                               nmerged_smap,dist=distance,namevar='sm')"
   ]
  },
  {
   "cell_type": "code",
   "execution_count": 19,
   "metadata": {
    "tags": []
   },
   "outputs": [
    {
     "data": {
      "text/plain": [
       "Index(['time', 'local_time', 'feature', 'mean_SM_env', 'std_SM_env'], dtype='object')"
      ]
     },
     "execution_count": 19,
     "metadata": {},
     "output_type": "execute_result"
    }
   ],
   "source": [
    "smap_env_all_AB_2r_2015.columns"
   ]
  },
  {
   "cell_type": "code",
   "execution_count": 20,
   "metadata": {
    "tags": []
   },
   "outputs": [
    {
     "name": "stdout",
     "output_type": "stream",
     "text": [
      "1803 1803\n"
     ]
    }
   ],
   "source": [
    "print(len(smap_env_all_AB_2r_2015),len(df_imerg_AB_2015_filt[(\n",
    "   df_imerg_AB_2015_filt.longitude>-76.5)&(df_imerg_AB_2015_filt.longitude<-55.5)]))"
   ]
  },
  {
   "cell_type": "code",
   "execution_count": 29,
   "metadata": {
    "tags": []
   },
   "outputs": [],
   "source": [
    "def add_SMvars_to_df(df1, df2, varname1='SM_std_env', varname2='SM_mean_env'):\n",
    "    \"\"\"\n",
    "    Add columns from df2 to df1 based on matching 'feature' column values.\n",
    "    \n",
    "    df1: The dataframe where columns are added.\n",
    "    df2: The dataframe whose columns are extracted.\n",
    "    varname1 (str): The name of the mean column in df2 after renaming (default 'SM_mean_env_3hb').\n",
    "    varname2 (str): The name of the std deviation column in df2 after renaming (default 'SM_std_env_3hb').\n",
    "\n",
    "    Returns:\n",
    "    DataFrame: The merged DataFrame with new columns added from df2.\n",
    "    \"\"\"\n",
    "    # Copy df2 to avoid changing it outside of the function's scope\n",
    "    df2_copy = df2.copy()\n",
    "    \n",
    "    # Rename columns to prevent conflicts during merge\n",
    "    df2_copy.rename(columns={'std_SM_env': varname1, 'mean_SM_env': varname2}, inplace=True)\n",
    "    \n",
    "    # Check if 'feature' column exists in both dataframes\n",
    "    if 'feature' not in df1.columns or 'feature' not in df2_copy.columns:\n",
    "        raise KeyError(\"'feature' column must exist in both dataframes.\")\n",
    "    \n",
    "    # Merge the dataframes on the 'feature' column with a left join\n",
    "    merged_df = pd.merge(df1, df2_copy[['feature', varname1, varname2]], on='feature', how='left')\n",
    "    \n",
    "    return merged_df"
   ]
  },
  {
   "cell_type": "code",
   "execution_count": 32,
   "metadata": {
    "tags": []
   },
   "outputs": [],
   "source": [
    "######################## AMAZON ########################\n",
    "\n",
    "df_2r_c_AB_2015 = add_SMvars_to_df(df_imerg_AB_2015_filt[(df_imerg_AB_2015_filt.longitude>-76.5)&(df_imerg_AB_2015_filt.longitude<-55.5)],\n",
    "                                   smap_env_all_AB_2r_2015.reset_index(drop=True));\n",
    "df_2r_c_AB_2015 = add_SMvars_to_df(df_2r_c_AB_2015,smap_env_all_AB_2r_2015_6hb.reset_index(drop=True),\n",
    "                                   varname1='SM_std_env_6hb',varname2='SM_mean_env_6hb');\n",
    "\n",
    "df_2r_c_AB_2016 = add_SMvars_to_df(df_imerg_AB_2016_filt[(df_imerg_AB_2016_filt.longitude>-76.5)&(df_imerg_AB_2016_filt.longitude<-55.5)],\n",
    "                                   smap_env_all_AB_2r_2016.reset_index(drop=True));\n",
    "df_2r_c_AB_2016 = add_SMvars_to_df(df_2r_c_AB_2016,smap_env_all_AB_2r_2016_6hb.reset_index(drop=True),\n",
    "                                   varname1='SM_std_env_6hb',varname2='SM_mean_env_6hb');\n",
    "\n",
    "df_2r_c_AB_2017 = add_SMvars_to_df(df_imerg_AB_2017_filt[(df_imerg_AB_2017_filt.longitude>-76.5)&(df_imerg_AB_2017_filt.longitude<-55.5)],\n",
    "                                   smap_env_all_AB_2r_2017.reset_index(drop=True));\n",
    "df_2r_c_AB_2017 = add_SMvars_to_df(df_2r_c_AB_2017,smap_env_all_AB_2r_2017_6hb.reset_index(drop=True),\n",
    "                                   varname1='SM_std_env_6hb',varname2='SM_mean_env_6hb');\n",
    "\n",
    "df_2r_c_AB_2018 = add_SMvars_to_df(df_imerg_AB_2018_filt[(df_imerg_AB_2018_filt.longitude>-76.5)&(df_imerg_AB_2018_filt.longitude<-55.5)],\n",
    "                                   smap_env_all_AB_2r_2018.reset_index(drop=True));\n",
    "df_2r_c_AB_2018 = add_SMvars_to_df(df_2r_c_AB_2018,smap_env_all_AB_2r_2018_6hb.reset_index(drop=True),\n",
    "                                   varname1='SM_std_env_6hb',varname2='SM_mean_env_6hb');\n",
    "\n",
    "df_2r_c_AB_2019 = add_SMvars_to_df(df_imerg_AB_2019_filt[(df_imerg_AB_2019_filt.longitude>-76.5)&(df_imerg_AB_2019_filt.longitude<-55.5)],\n",
    "                                   smap_env_all_AB_2r_2019.reset_index(drop=True));\n",
    "df_2r_c_AB_2019 = add_SMvars_to_df(df_2r_c_AB_2019,smap_env_all_AB_2r_2019_6hb.reset_index(drop=True),\n",
    "                                   varname1='SM_std_env_6hb',varname2='SM_mean_env_6hb');\n",
    "\n",
    "df_2r_c_AB_2020 = add_SMvars_to_df(df_imerg_AB_2020_filt[(df_imerg_AB_2020_filt.longitude>-76.5)&(df_imerg_AB_2020_filt.longitude<-55.5)],\n",
    "                                   smap_env_all_AB_2r_2020.reset_index(drop=True));\n",
    "df_2r_c_AB_2020 = add_SMvars_to_df(df_2r_c_AB_2020,smap_env_all_AB_2r_2020_6hb.reset_index(drop=True),\n",
    "                                   varname1='SM_std_env_6hb',varname2='SM_mean_env_6hb');"
   ]
  },
  {
   "cell_type": "code",
   "execution_count": 33,
   "metadata": {
    "tags": []
   },
   "outputs": [],
   "source": [
    "######################## SESA ########################\n",
    "\n",
    "df_2r_c_SESA_2015 = add_SMvars_to_df(df_imerg_SESA_2015_filt[(df_imerg_SESA_2015_filt.longitude>-76.5)&(df_imerg_SESA_2015_filt.latitude>-24.5)],\n",
    "                                   smap_env_all_SESA_2r_2015.reset_index(drop=True));\n",
    "df_2r_c_SESA_2015 = add_SMvars_to_df(df_2r_c_SESA_2015,smap_env_all_SESA_2r_2015_6hb.reset_index(drop=True),\n",
    "                                   varname1='SM_std_env_6hb',varname2='SM_mean_env_6hb');\n",
    "\n",
    "df_2r_c_SESA_2016 = add_SMvars_to_df(df_imerg_SESA_2016_filt[(df_imerg_SESA_2016_filt.longitude>-76.5)&(df_imerg_SESA_2016_filt.latitude>-24.5)],\n",
    "                                   smap_env_all_SESA_2r_2016.reset_index(drop=True));\n",
    "df_2r_c_SESA_2016 = add_SMvars_to_df(df_2r_c_SESA_2016,smap_env_all_SESA_2r_2016_6hb.reset_index(drop=True),\n",
    "                                   varname1='SM_std_env_6hb',varname2='SM_mean_env_6hb');\n",
    "\n",
    "df_2r_c_SESA_2017 = add_SMvars_to_df(df_imerg_SESA_2017_filt[(df_imerg_SESA_2017_filt.longitude>-76.5)&(df_imerg_SESA_2017_filt.latitude>-24.5)],\n",
    "                                   smap_env_all_SESA_2r_2017.reset_index(drop=True));\n",
    "df_2r_c_SESA_2017 = add_SMvars_to_df(df_2r_c_SESA_2017,smap_env_all_SESA_2r_2017_6hb.reset_index(drop=True),\n",
    "                                   varname1='SM_std_env_6hb',varname2='SM_mean_env_6hb');\n",
    "\n",
    "df_2r_c_SESA_2018 = add_SMvars_to_df(df_imerg_SESA_2018_filt[(df_imerg_SESA_2018_filt.longitude>-76.5)&(df_imerg_SESA_2018_filt.latitude>-24.5)],\n",
    "                                   smap_env_all_SESA_2r_2018.reset_index(drop=True));\n",
    "df_2r_c_SESA_2018 = add_SMvars_to_df(df_2r_c_SESA_2018,smap_env_all_SESA_2r_2018_6hb.reset_index(drop=True),\n",
    "                                   varname1='SM_std_env_6hb',varname2='SM_mean_env_6hb');\n",
    "\n",
    "df_2r_c_SESA_2019 = add_SMvars_to_df(df_imerg_SESA_2019_filt[(df_imerg_SESA_2019_filt.longitude>-76.5)&(df_imerg_SESA_2019_filt.latitude>-24.5)],\n",
    "                                   smap_env_all_SESA_2r_2019.reset_index(drop=True));\n",
    "df_2r_c_SESA_2019 = add_SMvars_to_df(df_2r_c_SESA_2019,smap_env_all_SESA_2r_2019_6hb.reset_index(drop=True),\n",
    "                                   varname1='SM_std_env_6hb',varname2='SM_mean_env_6hb');\n",
    "\n",
    "df_2r_c_SESA_2020 = add_SMvars_to_df(df_imerg_SESA_2020_filt[(df_imerg_SESA_2020_filt.longitude>-76.5)&(df_imerg_SESA_2020_filt.latitude>-24.5)],\n",
    "                                   smap_env_all_SESA_2r_2020.reset_index(drop=True));\n",
    "df_2r_c_SESA_2020 = add_SMvars_to_df(df_2r_c_SESA_2020,smap_env_all_SESA_2r_2020_6hb.reset_index(drop=True),\n",
    "                                   varname1='SM_std_env_6hb',varname2='SM_mean_env_6hb');"
   ]
  },
  {
   "cell_type": "code",
   "execution_count": 34,
   "metadata": {
    "tags": []
   },
   "outputs": [
    {
     "data": {
      "text/plain": [
       "Index(['index', 'feature', 'time', 'idx', 'area', 'mean', 'tot_prec',\n",
       "       'max_prec', 'hdim_1', 'hdim_2', 'longitude', 'latitude', 'time_zone',\n",
       "       'local_time', 'mean_ob', 'area_ob', 'max_ob', 'radius', 'frame', 'cell',\n",
       "       'time_cell', 'stage', 'stage_n', 'time_diff_hours', 'delta_lat',\n",
       "       'delta_lon', 'direction', 'cardinal_direction', 'categorized_direction',\n",
       "       'topo_mean', 'topo_median', 'topo_max', 'topo_std', 'SM_std_env',\n",
       "       'SM_mean_env', 'SM_std_env_6hb', 'SM_mean_env_6hb'],\n",
       "      dtype='object')"
      ]
     },
     "execution_count": 34,
     "metadata": {},
     "output_type": "execute_result"
    }
   ],
   "source": [
    "df_2r_c_AB_2015.columns"
   ]
  },
  {
   "cell_type": "code",
   "execution_count": 37,
   "metadata": {
    "tags": []
   },
   "outputs": [],
   "source": [
    "df_2r_c_AB_2015.to_pickle('imerg_pkl/df_2r_c_AB_2015.pkl')\n",
    "df_2r_c_AB_2016.to_pickle('imerg_pkl/df_2r_c_AB_2016.pkl')\n",
    "df_2r_c_AB_2017.to_pickle('imerg_pkl/df_2r_c_AB_2017.pkl')\n",
    "df_2r_c_AB_2018.to_pickle('imerg_pkl/df_2r_c_AB_2018.pkl')\n",
    "df_2r_c_AB_2019.to_pickle('imerg_pkl/df_2r_c_AB_2019.pkl')\n",
    "df_2r_c_AB_2020.to_pickle('imerg_pkl/df_2r_c_AB_2020.pkl')\n",
    "\n",
    "df_2r_c_SESA_2015.to_pickle('imerg_pkl/df_2r_c_SESA_2015.pkl')\n",
    "df_2r_c_SESA_2016.to_pickle('imerg_pkl/df_2r_c_SESA_2016.pkl')\n",
    "df_2r_c_SESA_2017.to_pickle('imerg_pkl/df_2r_c_SESA_2017.pkl')\n",
    "df_2r_c_SESA_2018.to_pickle('imerg_pkl/df_2r_c_SESA_2018.pkl')\n",
    "df_2r_c_SESA_2019.to_pickle('imerg_pkl/df_2r_c_SESA_2019.pkl')\n",
    "df_2r_c_SESA_2020.to_pickle('imerg_pkl/df_2r_c_SESA_2020.pkl')"
   ]
  }
 ],
 "metadata": {
  "kernelspec": {
   "display_name": "env_LP2",
   "language": "python",
   "name": "cloned_myenv"
  },
  "language_info": {
   "codemirror_mode": {
    "name": "ipython",
    "version": 3
   },
   "file_extension": ".py",
   "mimetype": "text/x-python",
   "name": "python",
   "nbconvert_exporter": "python",
   "pygments_lexer": "ipython3",
   "version": "3.9.13"
  }
 },
 "nbformat": 4,
 "nbformat_minor": 4
}
