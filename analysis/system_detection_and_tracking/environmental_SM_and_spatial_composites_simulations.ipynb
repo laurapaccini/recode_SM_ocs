{
 "cells": [
  {
   "cell_type": "code",
   "execution_count": 1,
   "metadata": {},
   "outputs": [],
   "source": [
    "import xarray as xr\n",
    "import pandas as pd\n",
    "import numpy as np"
   ]
  },
  {
   "cell_type": "code",
   "execution_count": 2,
   "metadata": {
    "tags": []
   },
   "outputs": [],
   "source": [
    "from open_experiment import control_land, fixedSM_land, control_deaccu, fixedSM_deaccu, control_sfc, fixedSM_sfc"
   ]
  },
  {
   "cell_type": "code",
   "execution_count": 3,
   "metadata": {},
   "outputs": [],
   "source": [
    "# Disable a few warnings:\n",
    "import warnings\n",
    "warnings.filterwarnings('ignore', category=UserWarning, append=True)\n",
    "warnings.filterwarnings('ignore', category=RuntimeWarning, append=True)\n",
    "warnings.filterwarnings('ignore', category=FutureWarning, append=True)\n",
    "warnings.filterwarnings('ignore',category=pd.io.pytables.PerformanceWarning)"
   ]
  },
  {
   "cell_type": "code",
   "execution_count": 4,
   "metadata": {
    "tags": []
   },
   "outputs": [],
   "source": [
    "sum_control_land = control_land.isel(depth=slice(0,5)).sum('depth').load()\n",
    "sum_fixedSM_land = fixedSM_land.isel(depth=slice(0,5)).sum('depth').load()"
   ]
  },
  {
   "cell_type": "code",
   "execution_count": 5,
   "metadata": {
    "tags": []
   },
   "outputs": [
    {
     "name": "stdout",
     "output_type": "stream",
     "text": [
      "1434 1434\n"
     ]
    }
   ],
   "source": [
    "print(len(sum_control_land.time),len(sum_fixedSM_land.time))"
   ]
  },
  {
   "cell_type": "code",
   "execution_count": 4,
   "metadata": {},
   "outputs": [],
   "source": [
    "path='/scratch/wcq7pz/exp_levante_post/'\n",
    "\n",
    "topo5km = xr.open_dataset(path+'topography_dom03_5km.nc')\n",
    "topo5km.coords['lon'] = (topo5km.coords['lon'] + 180) % 360 - 180\n",
    "topo5km  = topo5km.sortby(topo5km.lon)\n",
    "\n",
    "frland=xr.open_dataset(path+'fr_land_dom03_5km.nc')\n",
    "frland.coords['lon'] = (frland.coords['lon'] + 180) % 360 - 180\n",
    "frland = frland.sortby(frland.lon)"
   ]
  },
  {
   "cell_type": "code",
   "execution_count": 5,
   "metadata": {},
   "outputs": [],
   "source": [
    "# Repeat the variable along the time dimension of datasets\n",
    "ds_topo = topo5km['topography_c'].broadcast_like(control_sfc['time']).load()\n",
    "ds_landf = frland['fr_land'].broadcast_like(control_sfc['time']).load()"
   ]
  },
  {
   "cell_type": "code",
   "execution_count": 8,
   "metadata": {},
   "outputs": [],
   "source": [
    "# Remove high topography and keep land surface (i.e. omit rivers)\n",
    "ncontrol_land = sum_control_land.where((ds_topo<=500)&(ds_landf==1),np.nan).load()\n",
    "nfixedSM_land = sum_fixedSM_land.where((ds_topo<=500)&(ds_landf==1),np.nan).load()"
   ]
  },
  {
   "cell_type": "code",
   "execution_count": 6,
   "metadata": {
    "tags": []
   },
   "outputs": [],
   "source": [
    "ncontrol_tqv = control_sfc.tqv_dia.where((ds_topo<=500)&(ds_landf==1),np.nan).load()\n",
    "nfixedSM_tqv = fixedSM_sfc.tqv_dia.where((ds_topo<=500)&(ds_landf==1),np.nan).load()"
   ]
  },
  {
   "cell_type": "markdown",
   "metadata": {},
   "source": [
    "#### Load objects and dataframes with stage information"
   ]
  },
  {
   "cell_type": "code",
   "execution_count": 7,
   "metadata": {},
   "outputs": [],
   "source": [
    "### read Stage info\n",
    "df_ocs_control_AB = pd.read_pickle('pkl_files/df_ocs_control_AB.pkl'); \n",
    "df_ocs_fixedSM_AB = pd.read_pickle('pkl_files/df_ocs_fixedSM_AB.pkl'); \n",
    "df_ocs_control_SESA = pd.read_pickle('pkl_files/df_ocs_control_SESA.pkl'); \n",
    "df_ocs_fixedSM_SESA = pd.read_pickle('pkl_files/df_ocs_fixedSM_SESA.pkl'); \n"
   ]
  },
  {
   "cell_type": "markdown",
   "metadata": {},
   "source": [
    "#### Define functions"
   ]
  },
  {
   "cell_type": "code",
   "execution_count": 8,
   "metadata": {},
   "outputs": [],
   "source": [
    "def mirrored(maxval, inc=1):\n",
    "    x = np.arange(inc, maxval, inc)\n",
    "    if x[-1] != maxval:\n",
    "        x = np.r_[x, maxval]\n",
    "    return np.r_[-x[::-1], 0, x]\n"
   ]
  },
  {
   "cell_type": "code",
   "execution_count": 9,
   "metadata": {},
   "outputs": [],
   "source": [
    "def concat_spatial_composites(var, df,  dist= 1,grid = 0.045,timelag=False,dt='1hours'):\n",
    "    \n",
    "    time_cord = np.arange(len(df));\n",
    "    \n",
    "    if timelag==True:\n",
    "        comp = xr.concat([var.sel(time=df.time.values[i]-pd.Timedelta(dt)).sel(lon=slice(df.longitude.values[i]-dist,df.longitude.values[i]+dist),\n",
    "                                  lat=slice(df.latitude.values[i]-dist,df.latitude.values[i]+dist)).update(\n",
    "    {\"lon\": (\"lon\", 100*(mirrored((dist-grid), grid))),\"lat\": (\"lat\", 100*(mirrored((dist-grid), grid))),\n",
    "     \"time\": (\"time\",[time_cord[i]])}) for i in range(len(df)) ],'time')\n",
    "    else:\n",
    "        comp = xr.concat([var.sel(time=df.time.values[i]).sel(lon=slice(df.longitude.values[i]-dist,df.longitude.values[i]+dist),\n",
    "                                  lat=slice(df.latitude.values[i]-dist,df.latitude.values[i]+dist)).update(\n",
    "    {\"lon\": (\"lon\", 100*(mirrored((dist-grid), grid))),\"lat\": (\"lat\", 100*(mirrored((dist-grid), grid))),\n",
    "     \"time\": (\"time\",[time_cord[i]])}) for i in range(len(df)) ],'time');\n",
    "    \n",
    "    \n",
    "    \n",
    "    return comp"
   ]
  },
  {
   "cell_type": "code",
   "execution_count": 14,
   "metadata": {},
   "outputs": [],
   "source": [
    "def sel_composite(df,var1,namevar='w_so',dist=2,timelag=False,dt=1,varmean='mean_SM_env',varstd='stad_SM_env'):\n",
    "    \"\"\"\n",
    "    df = dataframe\n",
    "    var1, var2 = 3D dataset of dimensions time,lat,lon for precipitation and SM, respectively.\n",
    "    \"\"\"\n",
    "    if timelag==True:\n",
    "        \n",
    "        df_cat = pd.concat([pd.DataFrame([{'time':df.time.values[i]-pd.Timedelta(dt),'local_time':df.local_time.values[i]-pd.Timedelta(dt),\n",
    "                                           'feature':df.feature.values[i],\n",
    "        varmean:var1.sel(time=df.time.values[i]-pd.Timedelta(dt)).sel(lon=slice(\n",
    "        df.longitude.values[i]-dist*df.radius.values[i]/110,df.longitude.values[i]+dist*df.radius.values[i]/110),lat=slice(\n",
    "        df.latitude.values[i]-dist*df.radius.values[i]/110,df.latitude.values[i]+dist*df.radius.values[i]/110)).mean(['lat','lon'])[namevar].values, \n",
    "        varstd:var1.sel(time=df.time.values[i]-pd.Timedelta(dt)).sel(lon=slice(\n",
    "        df.longitude.values[i]-dist*df.radius.values[i]/110,df.longitude.values[i]+dist*df.radius.values[i]/110),lat=slice(\n",
    "        df.latitude.values[i]-dist*df.radius.values[i]/110,df.latitude.values[i]+dist*df.radius.values[i]/110)).std(['lat','lon'])[namevar].values}]) for i in range(len(df))],\n",
    "ignore_index=False)\n",
    "    else:\n",
    "        df_cat = pd.concat([pd.DataFrame([{'time':df.time.values[i],'local_time':df.local_time.values[i],'feature':df.feature.values[i],\n",
    "        varmean:var1.sel(time=df.time.values[i]).sel(lon=slice(\n",
    "        df.longitude.values[i]-dist*df.radius.values[i]/110,df.longitude.values[i]+dist*df.radius.values[i]/110),lat=slice(\n",
    "        df.latitude.values[i]-dist*df.radius.values[i]/110,df.latitude.values[i]+dist*df.radius.values[i]/110)).mean(['lat','lon'])[namevar].values, \n",
    "        varstd:var1.sel(time=df.time.values[i]).sel(lon=slice(\n",
    "        df.longitude.values[i]-dist*df.radius.values[i]/110,df.longitude.values[i]+dist*df.radius.values[i]/110),lat=slice(\n",
    "        df.latitude.values[i]-dist*df.radius.values[i]/110,df.latitude.values[i]+dist*df.radius.values[i]/110)).std(['lat','lon'])[namevar].values}]) for i in range(len(df))],\n",
    "ignore_index=False) \n",
    "       \n",
    "    df_cat = df_cat.reset_index(drop=True);\n",
    "    df_cat[varmean] =df_cat[varmean].astype(float)\n",
    "    df_cat[varstd] =df_cat[varstd].astype(float)\n",
    "    return df_cat"
   ]
  },
  {
   "cell_type": "markdown",
   "metadata": {
    "tags": []
   },
   "source": [
    "#### Compute the mean and std of SM in the near environment. (Environment definition: Select around \"dist\" times the radius of the systems)"
   ]
  },
  {
   "cell_type": "code",
   "execution_count": 36,
   "metadata": {},
   "outputs": [],
   "source": [
    "##### Select around \"dist\" times the radius of the object\n",
    "### Amazon\n",
    "sm_env_all_c_2r = sel_composite(df_ocs_control_AB[(\n",
    "    df_ocs_control_AB.longitude>-76.5)&(df_ocs_control_AB.longitude<-55.5)].reset_index(),\n",
    "                               ncontrol_land,dist=2)\n",
    "sm_env_all_c_2r.to_pickle('pkl_files/sm_env_all_c_2r_notoprivr.pkl')\n",
    "\n",
    "\n",
    "sm_env_all_f_2r = sel_composite(df_ocs_fixedSM_AB[(\n",
    "    df_ocs_fixedSM_AB.longitude>-76.5)&(df_ocs_fixedSM_AB.longitude<-55.5)].reset_index(),\n",
    "                               nfixedSM_land,dist=2)\n",
    "sm_env_all_f_2r.to_pickle('pkl_files/sm_env_all_f_2r_notoprivr.pkl')\n",
    "\n",
    "### SESA\n",
    "sm_env_all_c_2r_SESA =sel_composite(df_ocs_control_SESA[(\n",
    "   df_ocs_control_SESA.longitude>-76.5)&(df_ocs_control_SESA.latitude>-24.5)].reset_index(),\n",
    "                               ncontrol_land,dist=2)\n",
    "sm_env_all_c_2r_SESA.to_pickle('pkl_files/sm_env_all_c_SESA_2r_notoprivr.pkl')\n",
    "\n",
    "\n",
    "sm_env_all_f_2r_SESA = sel_composite(df_ocs_fixedSM_SESA[(\n",
    "    df_ocs_fixedSM_SESA.longitude>-76.5)&(df_ocs_fixedSM_SESA.latitude>-24.5)].reset_index(),\n",
    "                               nfixedSM_land,dist=2)\n",
    "sm_env_all_f_2r_SESA.to_pickle('pkl_files/sm_env_all_f_SESA_2r_notoprivr.pkl')"
   ]
  },
  {
   "cell_type": "code",
   "execution_count": 18,
   "metadata": {
    "tags": []
   },
   "outputs": [],
   "source": [
    "### other sfc variables\n",
    "### Amazon\n",
    "tqv_env_all_c_2r = sel_composite(df_ocs_control_AB[(\n",
    "    df_ocs_control_AB.longitude>-76.5)&(df_ocs_control_AB.longitude<-55.5)].reset_index(),\n",
    "                               ncontrol_tqv.to_dataset(name='tqv_dia'),dist=2,namevar='tqv_dia',varmean='mean_TQV_env',varstd='std_TQV_env')\n",
    "tqv_env_all_c_2r.to_pickle('pkl_files/tqv_env_all_c_2r_notoprivr.pkl')\n",
    "\n",
    "tqv_env_all_f_2r = sel_composite(df_ocs_fixedSM_AB[(\n",
    "    df_ocs_fixedSM_AB.longitude>-76.5)&(df_ocs_fixedSM_AB.longitude<-55.5)].reset_index(),\n",
    "                               nfixedSM_tqv.to_dataset(name='tqv_dia'),dist=2,namevar='tqv_dia',varmean='mean_TQV_env',varstd='std_TQV_env')\n",
    "tqv_env_all_f_2r.to_pickle('pkl_files/tqv_env_all_f_2r_notoprivr.pkl')\n",
    "\n",
    "### SESA\n",
    "tqv_env_all_c_2r_SESA = sel_composite(df_ocs_control_SESA[(\n",
    "    df_ocs_control_SESA.longitude>-76.5)&(df_ocs_control_SESA.latitude>-24.5)].reset_index(),\n",
    "                               ncontrol_tqv.to_dataset(name='tqv_dia'),dist=2,namevar='tqv_dia',varmean='mean_TQV_env',varstd='std_TQV_env')\n",
    "tqv_env_all_c_2r_SESA.to_pickle('pkl_files/tqv_env_all_c_SESA_2r_notoprivr.pkl')\n",
    "\n",
    "tqv_env_all_f_2r_SESA = sel_composite(df_ocs_fixedSM_SESA[(\n",
    "    df_ocs_fixedSM_SESA.longitude>-76.5)&(df_ocs_fixedSM_SESA.latitude>-24.5)].reset_index(),\n",
    "                               nfixedSM_tqv.to_dataset(name='tqv_dia'),dist=2,namevar='tqv_dia',varmean='mean_TQV_env',varstd='std_TQV_env')\n",
    "tqv_env_all_f_2r_SESA.to_pickle('pkl_files/tqv_env_all_f_SESA_2r_notoprivr.pkl')"
   ]
  },
  {
   "cell_type": "markdown",
   "metadata": {},
   "source": [
    "### Make spatial composites of detected objects "
   ]
  },
  {
   "cell_type": "code",
   "execution_count": 24,
   "metadata": {
    "tags": []
   },
   "outputs": [],
   "source": [
    "sm_ti_c = concat_spatial_composites(ncontrol_land,df_ocs_control_AB[(\n",
    "    df_ocs_control_AB.stage=='t_i')&(df_ocs_control_AB.longitude>-76.5)&(df_ocs_control_AB.longitude<-55.5)],dist=5)\n",
    "sm_ti_f = concat_spatial_composites(nfixedSM_land,df_ocs_fixedSM_AB[(\n",
    "    df_ocs_fixedSM_AB.stage=='t_i')&(df_ocs_fixedSM_AB.longitude>-76.5)&(df_ocs_fixedSM_AB.longitude<-55.5)],dist=5)\n",
    "\n",
    "sm_ti_c.to_netcdf('spatial_composites/sm_ti_c_5deg_notoprivr.nc'); \n",
    "sm_ti_f.to_netcdf('spatial_composites/sm_ti_f_5deg_notoprivr.nc'); "
   ]
  },
  {
   "cell_type": "code",
   "execution_count": 27,
   "metadata": {},
   "outputs": [],
   "source": [
    "deaccu_ti_c = concat_spatial_composites(control_deaccu[['tot_prec','acclhfl_s','accshfl_s']],df_ocs_control_AB[(\n",
    "    df_ocs_control_AB.stage=='t_i')&(df_ocs_control_AB.longitude>-76.5)&(df_ocs_control_AB.longitude<-55.5)],dist=5)\n",
    "deaccu_ti_f = concat_spatial_composites(fixedSM_deaccu[['tot_prec','acclhfl_s','accshfl_s']],df_ocs_fixedSM_AB[(\n",
    "    df_ocs_fixedSM_AB.stage=='t_i')&(df_ocs_fixedSM_AB.longitude>-76.5)&(df_ocs_fixedSM_AB.longitude<-55.5)],dist=5)\n",
    "\n",
    "deaccu_ti_c.to_netcdf('spatial_composites/deaccu_ti_c_5deg.nc'); \n",
    "deaccu_ti_f.to_netcdf('spatial_composites/deaccu_ti_f_5deg.nc'); "
   ]
  },
  {
   "cell_type": "code",
   "execution_count": 30,
   "metadata": {},
   "outputs": [],
   "source": [
    "sfc_ti_c = concat_spatial_composites(control_sfc.where((ds_topo<=500)&(ds_landf==1),np.nan),df_ocs_control_AB[(\n",
    "     df_ocs_control_AB.stage=='t_i')&(df_ocs_control_AB.longitude>-76.5)&(df_ocs_control_AB.longitude<-55.5)],dist=5)\n",
    "sfc_ti_f = concat_spatial_composites(fixedSM_sfc.where((ds_topo<=500)&(ds_landf==1),np.nan),df_ocs_fixedSM_AB[(\n",
    "     df_ocs_fixedSM_AB.stage=='t_i')&(df_ocs_fixedSM_AB.longitude>-76.5)&(df_ocs_fixedSM_AB.longitude<-55.5)],dist=5)\n",
    "\n",
    "sfc_ti_c.to_netcdf('spatial_composites/sfc_ti_c_notopnorivr_5deg.nc'); \n",
    "sfc_ti_f.to_netcdf('spatial_composites/sfc_ti_f_notopnorivr_5deg.nc'); "
   ]
  },
  {
   "cell_type": "markdown",
   "metadata": {},
   "source": [
    "##### Make spatial composites with time lags"
   ]
  },
  {
   "cell_type": "markdown",
   "metadata": {},
   "source": [
    "##### 3 hour before"
   ]
  },
  {
   "cell_type": "code",
   "execution_count": 14,
   "metadata": {
    "tags": []
   },
   "outputs": [],
   "source": [
    "df_stage_c_3hb = df_ocs_control_AB[(df_ocs_control_AB.time!='2018-03-31 02:00:00')&(df_ocs_control_AB.time!='2018-03-31 03:00:00')&(\n",
    "                df_ocs_control_AB.time!='2018-03-31 04:00:00')&(df_ocs_control_AB.time!='2017-03-31 03:00:00')&(df_ocs_control_AB.time!='2017-03-31 04:00:00')]\n",
    "df_stage_f_3hb = df_ocs_fixedSM_AB[(df_ocs_fixedSM_AB.time!='2018-03-31 02:00:00')&(df_ocs_fixedSM_AB.time!='2018-03-31 03:00:00')&(\n",
    "                df_ocs_fixedSM_AB.time!='2018-03-31 04:00:00')&(df_ocs_fixedSM_AB.time!='2017-03-31 03:00:00')&(df_ocs_fixedSM_AB.time!='2017-03-31 04:00:00')]\n"
   ]
  },
  {
   "cell_type": "code",
   "execution_count": 15,
   "metadata": {},
   "outputs": [],
   "source": [
    "sm_ti_c_3hb = concat_spatial_composites(ncontrol_land,df_stage_c_3hb[(\n",
    "    df_stage_c_3hb.stage=='t_i')&(df_stage_c_3hb.longitude>-76.5)&(df_stage_c_3hb.longitude<-55.5)],\n",
    "                                        dist=5,timelag=True,dt='3hours')\n",
    "sm_ti_f_3hb = concat_spatial_composites(nfixedSM_land,df_stage_f_3hb[(\n",
    "    df_stage_f_3hb.stage=='t_i')&(df_stage_f_3hb.longitude>-76.5)&(df_stage_f_3hb.longitude<-55.5)],\n",
    "                                        dist=5,timelag=True,dt='3hours')\n"
   ]
  },
  {
   "cell_type": "code",
   "execution_count": 16,
   "metadata": {},
   "outputs": [],
   "source": [
    "sm_ti_c_3hb.to_netcdf('spatial_composites/sm_ti_c_3hb_5reg_AB_notoprivr.nc'); \n",
    "sm_ti_f_3hb.to_netcdf('spatial_composites/sm_ti_f_3hb_5reg_AB_notoprivr.nc'); "
   ]
  },
  {
   "cell_type": "code",
   "execution_count": 18,
   "metadata": {
    "tags": []
   },
   "outputs": [],
   "source": [
    "deaccu_ti_c_3hb = concat_spatial_composites(control_deaccu[['tot_prec','acclhfl_s','accshfl_s']],df_stage_c_3hb[(\n",
    "    df_stage_c_3hb.stage=='t_i')&(df_stage_c_3hb.longitude>-76.5)&(df_stage_c_3hb.longitude<-55.5)],dist=5,timelag=True,dt='3hours')\n",
    "deaccu_ti_f_3hb = concat_spatial_composites(fixedSM_deaccu[['tot_prec','acclhfl_s','accshfl_s']],df_stage_f_3hb[(\n",
    "    df_stage_f_3hb.stage=='t_i')&(df_stage_f_3hb.longitude>-76.5)&(df_stage_f_3hb.longitude<-55.5)],dist=5,timelag=True,dt='3hours')"
   ]
  },
  {
   "cell_type": "code",
   "execution_count": 19,
   "metadata": {
    "tags": []
   },
   "outputs": [],
   "source": [
    "deaccu_ti_c_3hb.to_netcdf('spatial_composites/deaccu_ti_3hb_c_5deg_AB.nc'); \n",
    "deaccu_ti_f_3hb.to_netcdf('spatial_composites/deaccu_ti_3hb_f_5deg_AB.nc'); "
   ]
  },
  {
   "cell_type": "code",
   "execution_count": 20,
   "metadata": {
    "tags": []
   },
   "outputs": [],
   "source": [
    "sfc_ti_c_3hb = concat_spatial_composites(control_sfc.where((ds_topo<=500)&(ds_landf==1),np.nan),df_stage_c_3hb[(\n",
    "     df_stage_c_3hb.stage=='t_i')&(df_stage_c_3hb.longitude>-76.5)&(df_stage_c_3hb.longitude<-55.5)],dist=5,timelag=True,dt='3hours')\n",
    "sfc_ti_f_3hb = concat_spatial_composites(fixedSM_sfc.where((ds_topo<=500)&(ds_landf==1),np.nan),df_stage_f_3hb[(\n",
    "     df_stage_f_3hb.stage=='t_i')&(df_stage_f_3hb.longitude>-76.5)&(df_stage_f_3hb.longitude<-55.5)],dist=5,timelag=True,dt='3hours')"
   ]
  },
  {
   "cell_type": "code",
   "execution_count": 21,
   "metadata": {},
   "outputs": [],
   "source": [
    "sfc_ti_c_3hb.to_netcdf('spatial_composites/sfc_ti_3hb_c_5deg_AB.nc'); \n",
    "sfc_ti_f_3hb.to_netcdf('spatial_composites/sfc_ti_3hb_f_5deg_AB.nc'); "
   ]
  },
  {
   "cell_type": "markdown",
   "metadata": {},
   "source": [
    "##### 6 hours before"
   ]
  },
  {
   "cell_type": "code",
   "execution_count": 22,
   "metadata": {},
   "outputs": [],
   "source": [
    "df_stage_c_6hb = df_stage_c_3hb[(df_stage_c_3hb.time!='2018-03-31 05:00:00')&(df_stage_c_3hb.time!='2018-03-31 06:00:00')&(df_stage_c_3hb.time!='2018-03-31 07:00:00')&(\n",
    "    df_stage_c_3hb.time!='2017-03-31 05:00:00')&(df_stage_c_3hb.time!='2017-03-31 06:00:00')&(df_stage_c_3hb.time!='2017-03-31 07:00:00')&(df_stage_c_3hb.time!='2019-03-31 05:00:00')&(\n",
    "    df_stage_c_3hb.time!='2019-03-31 06:00:00')&(df_stage_c_3hb.time!='2019-03-31 07:00:00')]\n",
    "df_stage_f_6hb = df_stage_f_3hb[(df_stage_f_3hb.time!='2018-03-31 05:00:00')&(df_stage_f_3hb.time!='2018-03-31 06:00:00')&(df_stage_f_3hb.time!='2018-03-31 07:00:00')&(\n",
    "    df_stage_f_3hb.time!='2017-03-31 05:00:00')&(df_stage_f_3hb.time!='2017-03-31 06:00:00')&(df_stage_f_3hb.time!='2017-03-31 07:00:00')&(\n",
    "    df_stage_f_3hb.time!='2019-03-31 05:00:00')&(df_stage_f_3hb.time!='2019-03-31 06:00:00')&(df_stage_f_3hb.time!='2019-03-31 07:00:00')]\n"
   ]
  },
  {
   "cell_type": "code",
   "execution_count": 24,
   "metadata": {},
   "outputs": [],
   "source": [
    "sm_ti_c_6hb = concat_spatial_composites(ncontrol_land,df_stage_c_6hb[(\n",
    "    df_stage_c_6hb.stage=='t_i')&(df_stage_c_6hb.longitude>-76.5)&(df_stage_c_6hb.longitude<-55.5)],\n",
    "                                        dist=5,timelag=True,dt='6hours')\n",
    "sm_ti_f_6hb = concat_spatial_composites(nfixedSM_land,df_stage_f_6hb[(\n",
    "    df_stage_f_6hb.stage=='t_i')&(df_stage_f_6hb.longitude>-76.5)&(df_stage_f_6hb.longitude<-55.5)],\n",
    "                                        dist=5,timelag=True,dt='6hours')"
   ]
  },
  {
   "cell_type": "code",
   "execution_count": 25,
   "metadata": {},
   "outputs": [],
   "source": [
    "sm_ti_c_6hb.to_netcdf('spatial_composites/sm_ti_c_6hb_5reg_notoprivr.nc'); \n",
    "sm_ti_f_6hb.to_netcdf('spatial_composites/sm_ti_f_6hb_5reg_notoprivr.nc'); "
   ]
  },
  {
   "cell_type": "code",
   "execution_count": 28,
   "metadata": {},
   "outputs": [],
   "source": [
    "deaccu_ti_c_6hb = concat_spatial_composites(control_deaccu[['tot_prec','acclhfl_s','accshfl_s']],df_stage_c_6hb[(\n",
    "    df_stage_c_6hb.stage=='t_i')&(df_stage_c_6hb.longitude>-76.5)&(df_stage_c_6hb.longitude<-55.5)],\n",
    "                                        dist=5,timelag=True,dt='6hours')\n",
    "deaccu_ti_f_6hb = concat_spatial_composites(fixedSM_deaccu[['tot_prec','acclhfl_s','accshfl_s']],df_stage_f_6hb[(\n",
    "    df_stage_f_6hb.stage=='t_i')&(df_stage_f_6hb.longitude>-76.5)&(df_stage_f_6hb.longitude<-55.5)],\n",
    "                                        dist=5,timelag=True,dt='6hours')"
   ]
  },
  {
   "cell_type": "code",
   "execution_count": 29,
   "metadata": {},
   "outputs": [
    {
     "data": {
      "text/plain": [
       "(1847, 223, 223)"
      ]
     },
     "execution_count": 29,
     "metadata": {},
     "output_type": "execute_result"
    }
   ],
   "source": [
    "np.shape(deaccu_ti_f_6hb.tot_prec)"
   ]
  },
  {
   "cell_type": "code",
   "execution_count": 39,
   "metadata": {},
   "outputs": [
    {
     "data": {
      "text/plain": [
       "(1847, 223, 223)"
      ]
     },
     "execution_count": 39,
     "metadata": {},
     "output_type": "execute_result"
    }
   ],
   "source": [
    "np.shape(deaccu_ti_f_6hb.tot_prec)"
   ]
  },
  {
   "cell_type": "code",
   "execution_count": 30,
   "metadata": {},
   "outputs": [],
   "source": [
    "deaccu_ti_c_6hb.to_netcdf('spatial_composites/deaccu_ti_c_6hb_5reg_AB.nc'); \n",
    "deaccu_ti_f_6hb.to_netcdf('spatial_composites/deaccu_ti_f_6hb_5reg_AB.nc'); "
   ]
  },
  {
   "cell_type": "code",
   "execution_count": 31,
   "metadata": {
    "tags": []
   },
   "outputs": [],
   "source": [
    "sfc_ti_c_6hb = concat_spatial_composites(control_sfc.where((ds_topo<=500)&(ds_landf==1),np.nan),df_stage_c_6hb[(\n",
    "     df_stage_c_6hb.stage=='t_i')&(df_stage_c_6hb.longitude>-76.5)&(df_stage_c_6hb.longitude<-55.5)],dist=5,timelag=True,dt='6hours')\n",
    "sfc_ti_f_6hb = concat_spatial_composites(fixedSM_sfc.where((ds_topo<=500)&(ds_landf==1),np.nan),df_stage_f_6hb[(\n",
    "     df_stage_f_6hb.stage=='t_i')&(df_stage_f_6hb.longitude>-76.5)&(df_stage_f_6hb.longitude<-55.5)],dist=5,timelag=True,dt='6hours')"
   ]
  },
  {
   "cell_type": "code",
   "execution_count": 32,
   "metadata": {
    "tags": []
   },
   "outputs": [],
   "source": [
    "sfc_ti_c_6hb.to_netcdf('spatial_composites/sfc_ti_6hb_c_5deg_AB.nc'); \n",
    "sfc_ti_f_6hb.to_netcdf('spatial_composites/sfc_ti_6hb_f_5deg_AB.nc'); "
   ]
  },
  {
   "cell_type": "markdown",
   "metadata": {},
   "source": [
    "##### 12 hours before "
   ]
  },
  {
   "cell_type": "code",
   "execution_count": 18,
   "metadata": {},
   "outputs": [],
   "source": [
    "df_stage_c_12hb = df_ocs_control_AB[(df_ocs_control_AB.time!='2017-03-31 03:00:00')&(df_ocs_control_AB.time!='2017-03-31 04:00:00')&(\n",
    "    df_ocs_control_AB.time!='2017-03-31 05:00:00')&(df_ocs_control_AB.time!='2017-03-31 06:00:00')&(df_ocs_control_AB.time!='2017-03-31 07:00:00')&(\n",
    "    df_ocs_control_AB.time!='2017-03-31 08:00:00')&(df_ocs_control_AB.time!='2017-03-31 09:00:00')&(df_ocs_control_AB.time!='2017-03-31 10:00:00')&(\n",
    "    df_ocs_control_AB.time!='2017-03-31 11:00:00')&(df_ocs_control_AB.time!='2017-03-31 12:00:00')&(df_ocs_control_AB.time!='2017-03-31 13:00:00')&(\n",
    "    df_ocs_control_AB.time!='2018-03-31 02:00:00')&(df_ocs_control_AB.time!='2018-03-31 03:00:00')&(df_ocs_control_AB.time!='2018-03-31 04:00:00')&(\n",
    "    df_ocs_control_AB.time!='2018-03-31 05:00:00')&(df_ocs_control_AB.time!='2018-03-31 06:00:00')&(df_ocs_control_AB.time!='2018-03-31 07:00:00')&(\n",
    "    df_ocs_control_AB.time!='2018-03-31 08:00:00')&(df_ocs_control_AB.time!='2018-03-31 09:00:00')&(df_ocs_control_AB.time!='2018-03-31 10:00:00')&(\n",
    "    df_ocs_control_AB.time!='2018-03-31 11:00:00')&(df_ocs_control_AB.time!='2018-03-31 12:00:00')&(df_ocs_control_AB.time!='2018-03-31 13:00:00')&(\n",
    "    df_ocs_control_AB.time!='2019-03-31 05:00:00')&(df_ocs_control_AB.time!='2019-03-31 06:00:00')&(df_ocs_control_AB.time!='2019-03-31 08:00:00')&(\n",
    "    df_ocs_control_AB.time!='2019-03-31 09:00:00')&(df_ocs_control_AB.time!='2019-03-31 10:00:00')&(df_ocs_control_AB.time!='2019-03-31 12:00:00')&(\n",
    "    df_ocs_control_AB.time!='2019-03-31 13:00:00')]\n",
    "\n",
    "sm_ti_c_12hb = concat_spatial_composites(ncontrol_land,df_stage_c_12hb[(\n",
    "    df_stage_c_12hb.stage=='t_i')&(df_stage_c_12hb.longitude>-76.5)&(df_stage_c_12hb.longitude<-55.5)],\n",
    "                                        dist=5,timelag=True,dt='12hours')"
   ]
  },
  {
   "cell_type": "code",
   "execution_count": 19,
   "metadata": {},
   "outputs": [],
   "source": [
    "sm_ti_c_12hb.to_netcdf('spatial_composites/sm_ti_c_12hb_5reg_notoprivr.nc'); "
   ]
  },
  {
   "cell_type": "code",
   "execution_count": 36,
   "metadata": {},
   "outputs": [],
   "source": [
    "deaccu_ti_c_12hb = concat_spatial_composites(control_deaccu[['tot_prec','acclhfl_s','accshfl_s']],df_stage_c_12hb[(\n",
    "    df_stage_c_12hb.stage=='t_i')&(df_stage_c_12hb.longitude>-76.5)&(df_stage_c_12hb.longitude<-55.5)],\n",
    "                                        dist=5,timelag=True,dt='12hours')"
   ]
  },
  {
   "cell_type": "code",
   "execution_count": 37,
   "metadata": {},
   "outputs": [],
   "source": [
    "deaccu_ti_c_12hb.to_netcdf('spatial_composites/deaccu_ti_c_12hb_5reg_notoprivr.nc'); "
   ]
  },
  {
   "cell_type": "code",
   "execution_count": 38,
   "metadata": {
    "tags": []
   },
   "outputs": [],
   "source": [
    "sfc_ti_c_12hb = concat_spatial_composites(control_sfc.where((ds_topo<=500)&(ds_landf==1),np.nan),df_stage_c_12hb[(\n",
    "     df_stage_c_12hb.stage=='t_i')&(df_stage_c_12hb.longitude>-76.5)&(df_stage_c_12hb.longitude<-55.5)],dist=5,timelag=True,dt='12hours')\n",
    "sfc_ti_c_12hb.to_netcdf('spatial_composites/sfc_ti_c_12hb_5reg_notoprivr.nc'); "
   ]
  },
  {
   "cell_type": "code",
   "execution_count": 20,
   "metadata": {},
   "outputs": [],
   "source": [
    "df_stage_f_12hb = df_ocs_fixedSM_AB[(df_ocs_fixedSM_AB.time!='2017-03-31 03:00:00')&(df_ocs_fixedSM_AB.time!='2017-03-31 04:00:00')&(\n",
    "    df_ocs_fixedSM_AB.time!='2017-03-31 05:00:00')&(df_ocs_fixedSM_AB.time!='2017-03-31 06:00:00')&(df_ocs_fixedSM_AB.time!='2017-03-31 07:00:00')&(\n",
    "    df_ocs_fixedSM_AB.time!='2017-03-31 08:00:00')&(df_ocs_fixedSM_AB.time!='2017-03-31 09:00:00')&(df_ocs_fixedSM_AB.time!='2017-03-31 10:00:00')&(\n",
    "    df_ocs_fixedSM_AB.time!='2017-03-31 12:00:00')&(df_ocs_fixedSM_AB.time!='2017-03-31 13:00:00')&(df_ocs_fixedSM_AB.time!='2018-03-31 02:00:00')&(\n",
    "    df_ocs_fixedSM_AB.time!='2018-03-31 03:00:00')&(df_ocs_fixedSM_AB.time!='2018-03-31 04:00:00')&(df_ocs_fixedSM_AB.time!='2018-03-31 05:00:00')&(\n",
    "    df_ocs_fixedSM_AB.time!='2018-03-31 06:00:00')&(df_ocs_fixedSM_AB.time!='2018-03-31 07:00:00')&(df_ocs_fixedSM_AB.time!='2018-03-31 08:00:00')&(\n",
    "    df_ocs_fixedSM_AB.time!='2018-03-31 09:00:00')&(df_ocs_fixedSM_AB.time!='2018-03-31 10:00:00')&(df_ocs_fixedSM_AB.time!='2018-03-31 11:00:00')&(\n",
    "    df_ocs_fixedSM_AB.time!='2018-03-31 12:00:00')&(df_ocs_fixedSM_AB.time!='2018-03-31 13:00:00')&(df_ocs_fixedSM_AB.time!='2019-03-31 05:00:00')&(\n",
    "    df_ocs_fixedSM_AB.time!='2019-03-31 06:00:00')&(df_ocs_fixedSM_AB.time!='2019-03-31 07:00:00')&(df_ocs_fixedSM_AB.time!='2019-03-31 08:00:00')&(\n",
    "    df_ocs_fixedSM_AB.time!='2019-03-31 09:00:00')&(df_ocs_fixedSM_AB.time!='2019-03-31 10:00:00')&(df_ocs_fixedSM_AB.time!='2019-03-31 11:00:00')&(\n",
    "    df_ocs_fixedSM_AB.time!='2019-03-31 12:00:00')&(df_ocs_fixedSM_AB.time!='2019-03-31 13:00:00')]\n",
    "\n",
    "sm_ti_f_12hb = concat_spatial_composites(nfixedSM_land,df_stage_f_12hb[(\n",
    "    df_stage_f_12hb.stage=='t_i')&(df_stage_f_12hb.longitude>-76.5)&(df_stage_f_12hb.longitude<-55.5)],\n",
    "                                        dist=5,timelag=True,dt='12hours')"
   ]
  },
  {
   "cell_type": "code",
   "execution_count": 21,
   "metadata": {},
   "outputs": [],
   "source": [
    "sm_ti_f_12hb.to_netcdf('spatial_composites/sm_ti_f_12hb_5reg_notoprivr.nc'); "
   ]
  },
  {
   "cell_type": "code",
   "execution_count": 43,
   "metadata": {},
   "outputs": [],
   "source": [
    "deaccu_ti_f_12hb = concat_spatial_composites(fixedSM_deaccu[['tot_prec','acclhfl_s','accshfl_s']],df_stage_f_12hb[(\n",
    "    df_stage_f_12hb.stage=='t_i')&(df_stage_f_12hb.longitude>-76.5)&(df_stage_f_12hb.longitude<-55.5)],\n",
    "                                        dist=5,timelag=True,dt='12hours')"
   ]
  },
  {
   "cell_type": "code",
   "execution_count": 44,
   "metadata": {},
   "outputs": [],
   "source": [
    "deaccu_ti_f_12hb.to_netcdf('spatial_composites/deaccu_ti_f_12hb_5reg_notoprivr.nc'); "
   ]
  },
  {
   "cell_type": "code",
   "execution_count": 35,
   "metadata": {
    "tags": []
   },
   "outputs": [],
   "source": [
    "# del(sfc_ti_f_12hb)\n",
    "sfc_ti_f_12hb = concat_spatial_composites(fixedSM_sfc.where((ds_topo<=500)&(ds_landf==1),np.nan),df_stage_f_12hb[(\n",
    "     df_stage_f_12hb.stage=='t_i')&(df_stage_f_12hb.longitude>-76.5)&(df_stage_f_12hb.longitude<-55.5)],\n",
    "                                          dist=5,timelag=True,dt='12hours')"
   ]
  },
  {
   "cell_type": "code",
   "execution_count": 38,
   "metadata": {
    "tags": []
   },
   "outputs": [],
   "source": [
    "sfc_ti_f_12hb.to_netcdf('spatial_composites/sfc_ti_f_12hb_5reg_notoprivr.nc'); "
   ]
  },
  {
   "cell_type": "markdown",
   "metadata": {},
   "source": [
    "#### 24hb"
   ]
  },
  {
   "cell_type": "code",
   "execution_count": 49,
   "metadata": {},
   "outputs": [],
   "source": [
    "df_stage_c_24hb = df_ocs_control_AB[(df_ocs_control_AB.time!='2017-03-31 03:00:00')&(df_ocs_control_AB.time!='2017-03-31 04:00:00')&(\n",
    "    df_ocs_control_AB.time!='2017-03-31 05:00:00')&(df_ocs_control_AB.time!='2017-03-31 06:00:00')&(df_ocs_control_AB.time!='2017-03-31 07:00:00')&(\n",
    "    df_ocs_control_AB.time!='2017-03-31 08:00:00')&(df_ocs_control_AB.time!='2017-03-31 09:00:00')&(df_ocs_control_AB.time!='2017-03-31 10:00:00')&(\n",
    "    df_ocs_control_AB.time!='2017-03-31 11:00:00')&(df_ocs_control_AB.time!='2017-03-31 12:00:00')&(df_ocs_control_AB.time!='2017-03-31 13:00:00')&(\n",
    "    df_ocs_control_AB.time!='2017-03-31 14:00:00')&(df_ocs_control_AB.time!='2017-03-31 15:00:00')&(df_ocs_control_AB.time!='2017-03-31 16:00:00')&(\n",
    "    df_ocs_control_AB.time!='2017-03-31 17:00:00')&(df_ocs_control_AB.time!='2017-03-31 18:00:00')&(df_ocs_control_AB.time!='2017-03-31 19:00:00')&(\n",
    "    df_ocs_control_AB.time!='2017-03-31 20:00:00')&(df_ocs_control_AB.time!='2017-03-31 21:00:00')&(df_ocs_control_AB.time!='2017-03-31 22:00:00')&(\n",
    "    df_ocs_control_AB.time!='2017-03-31 23:00:00')&(df_ocs_control_AB.time!='2017-04-01 00:00:00')&(df_ocs_control_AB.time!='2017-04-01 01:00:00')&(\n",
    "    df_ocs_control_AB.time!='2018-03-31 02:00:00')&(df_ocs_control_AB.time!='2018-03-31 03:00:00')&(df_ocs_control_AB.time!='2018-03-31 04:00:00')&(\n",
    "    df_ocs_control_AB.time!='2018-03-31 05:00:00')&(df_ocs_control_AB.time!='2018-03-31 06:00:00')&(df_ocs_control_AB.time!='2018-03-31 07:00:00')&(\n",
    "    df_ocs_control_AB.time!='2018-03-31 08:00:00')&(df_ocs_control_AB.time!='2018-03-31 09:00:00')&(df_ocs_control_AB.time!='2018-03-31 10:00:00')&(\n",
    "    df_ocs_control_AB.time!='2018-03-31 11:00:00')&(df_ocs_control_AB.time!='2018-03-31 12:00:00')&(df_ocs_control_AB.time!='2018-03-31 13:00:00')&(\n",
    "    df_ocs_control_AB.time!='2018-03-31 14:00:00')&(df_ocs_control_AB.time!='2018-03-31 15:00:00')&(df_ocs_control_AB.time!='2018-03-31 16:00:00')&(\n",
    "    df_ocs_control_AB.time!='2018-03-31 17:00:00')&(df_ocs_control_AB.time!='2018-03-31 18:00:00')&(df_ocs_control_AB.time!='2018-03-31 19:00:00')&(\n",
    "    df_ocs_control_AB.time!='2018-03-31 20:00:00')&(df_ocs_control_AB.time!='2018-03-31 21:00:00')&(df_ocs_control_AB.time!='2018-03-31 22:00:00')&(\n",
    "    df_ocs_control_AB.time!='2018-03-31 23:00:00')&(df_ocs_control_AB.time!='2018-04-01 00:00:00')&(df_ocs_control_AB.time!='2018-04-01 01:00:00')&(\n",
    "    df_ocs_control_AB.time!='2018-04-01 02:00:00')&(df_ocs_control_AB.time!='2018-04-01 03:00:00')&(df_ocs_control_AB.time!='2018-04-01 04:00:00')&(\n",
    "    df_ocs_control_AB.time!='2019-03-31 05:00:00')&(df_ocs_control_AB.time!='2019-03-31 06:00:00')&(df_ocs_control_AB.time!='2019-03-31 08:00:00')&(\n",
    "    df_ocs_control_AB.time!='2019-03-31 09:00:00')&(df_ocs_control_AB.time!='2019-03-31 10:00:00')&(df_ocs_control_AB.time!='2019-03-31 12:00:00')&(\n",
    "    df_ocs_control_AB.time!='2019-03-31 13:00:00')&(df_ocs_control_AB.time!='2019-03-31 16:00:00')&(df_ocs_control_AB.time!='2019-03-31 17:00:00')&(\n",
    "    df_ocs_control_AB.time!='2019-03-31 18:00:00')&(df_ocs_control_AB.time!='2019-03-31 19:00:00')&(df_ocs_control_AB.time!='2019-04-01 01:00:00')]\n",
    "\n",
    "sm_ti_c_24hb = concat_spatial_composites(ncontrol_land,df_stage_c_24hb[(\n",
    "    df_stage_c_24hb.stage=='t_i')&(df_stage_c_24hb.longitude>-76.5)&(df_stage_c_24hb.longitude<-55.5)],\n",
    "                                        dist=5,timelag=True,dt='24hours')"
   ]
  },
  {
   "cell_type": "code",
   "execution_count": 50,
   "metadata": {},
   "outputs": [],
   "source": [
    "sm_ti_c_24hb.to_netcdf('spatial_composites/sm_ti_c_24hb_5reg_notoprivr.nc'); "
   ]
  },
  {
   "cell_type": "code",
   "execution_count": 52,
   "metadata": {},
   "outputs": [],
   "source": [
    "deaccu_ti_c_24hb = concat_spatial_composites(control_deaccu[['tot_prec','acclhfl_s','accshfl_s']],df_stage_c_24hb[(\n",
    "    df_stage_c_24hb.stage=='t_i')&(df_stage_c_24hb.longitude>-76.5)&(df_stage_c_24hb.longitude<-55.5)],\n",
    "                                        dist=5,timelag=True,dt='24hours')"
   ]
  },
  {
   "cell_type": "code",
   "execution_count": 53,
   "metadata": {},
   "outputs": [],
   "source": [
    "deaccu_ti_c_24hb.to_netcdf('spatial_composites/deaccu_ti_c_24hb_5reg_notoprivr.nc'); "
   ]
  },
  {
   "cell_type": "code",
   "execution_count": 56,
   "metadata": {
    "tags": []
   },
   "outputs": [],
   "source": [
    "sfc_ti_c_24hb = concat_spatial_composites(control_sfc.where((ds_topo<=500)&(ds_landf==1),np.nan),df_stage_c_24hb[(\n",
    "     df_stage_c_24hb.stage=='t_i')&(df_stage_c_24hb.longitude>-76.5)&(df_stage_c_24hb.longitude<-55.5)],dist=5,\n",
    "                                          timelag=True,dt='24hours')\n"
   ]
  },
  {
   "cell_type": "code",
   "execution_count": 57,
   "metadata": {
    "tags": []
   },
   "outputs": [],
   "source": [
    "sfc_ti_c_24hb.to_netcdf('spatial_composites/sfc_ti_c_24hb_5reg_notoprivr.nc'); "
   ]
  },
  {
   "cell_type": "code",
   "execution_count": 58,
   "metadata": {},
   "outputs": [],
   "source": [
    "df_stage_f_24hb = df_ocs_fixedSM_AB[(df_ocs_fixedSM_AB.time!='2017-03-31 03:00:00')&(df_ocs_fixedSM_AB.time!='2017-03-31 04:00:00')&(\n",
    "    df_ocs_fixedSM_AB.time!='2017-03-31 05:00:00')&(df_ocs_fixedSM_AB.time!='2017-03-31 06:00:00')&(df_ocs_fixedSM_AB.time!='2017-03-31 07:00:00')&(\n",
    "    df_ocs_fixedSM_AB.time!='2017-03-31 08:00:00')&(df_ocs_fixedSM_AB.time!='2017-03-31 09:00:00')&(df_ocs_fixedSM_AB.time!='2017-03-31 10:00:00')&(\n",
    "    df_ocs_fixedSM_AB.time!='2017-03-31 12:00:00')&(df_ocs_fixedSM_AB.time!='2017-03-31 13:00:00')&(df_ocs_fixedSM_AB.time!='2017-03-31 14:00:00')&(\n",
    "    df_ocs_fixedSM_AB.time!='2017-03-31 15:00:00')&(df_ocs_fixedSM_AB.time!='2017-03-31 16:00:00')&(df_ocs_fixedSM_AB.time!='2017-03-31 17:00:00')&(\n",
    "    df_ocs_fixedSM_AB.time!='2017-03-31 18:00:00')&(df_ocs_fixedSM_AB.time!='2017-03-31 19:00:00')&(df_ocs_fixedSM_AB.time!='2017-03-31 20:00:00')&(\n",
    "    df_ocs_fixedSM_AB.time!='2017-03-31 21:00:00')&(df_ocs_fixedSM_AB.time!='2017-03-31 22:00:00')&(df_ocs_fixedSM_AB.time!='2017-03-31 23:00:00')&(\n",
    "    df_ocs_fixedSM_AB.time!='2017-04-01 01:00:00')&(df_ocs_fixedSM_AB.time!='2018-03-31 02:00:00')&(df_ocs_fixedSM_AB.time!='2018-03-31 03:00:00')&(\n",
    "    df_ocs_fixedSM_AB.time!='2018-03-31 04:00:00')&(df_ocs_fixedSM_AB.time!='2018-03-31 05:00:00')&(df_ocs_fixedSM_AB.time!='2018-03-31 06:00:00')&(\n",
    "    df_ocs_fixedSM_AB.time!='2018-03-31 07:00:00')&(df_ocs_fixedSM_AB.time!='2018-03-31 08:00:00')&(df_ocs_fixedSM_AB.time!='2018-03-31 09:00:00')&(\n",
    "    df_ocs_fixedSM_AB.time!='2018-03-31 10:00:00')&(df_ocs_fixedSM_AB.time!='2018-03-31 11:00:00')&(df_ocs_fixedSM_AB.time!='2018-03-31 12:00:00')&(\n",
    "    df_ocs_fixedSM_AB.time!='2018-03-31 13:00:00')&(df_ocs_fixedSM_AB.time!='2018-03-31 14:00:00')&(df_ocs_fixedSM_AB.time!='2018-03-31 15:00:00')&(\n",
    "    df_ocs_fixedSM_AB.time!='2018-03-31 16:00:00')&(df_ocs_fixedSM_AB.time!='2018-03-31 17:00:00')&(df_ocs_fixedSM_AB.time!='2018-03-31 18:00:00')&(\n",
    "    df_ocs_fixedSM_AB.time!='2018-03-31 19:00:00')&(df_ocs_fixedSM_AB.time!='2018-03-31 20:00:00')&(df_ocs_fixedSM_AB.time!='2018-03-31 22:00:00')&(\n",
    "    df_ocs_fixedSM_AB.time!='2018-03-31 23:00:00')&(df_ocs_fixedSM_AB.time!='2018-04-01 00:00:00')&(df_ocs_fixedSM_AB.time!='2018-04-01 01:00:00')&(\n",
    "    df_ocs_fixedSM_AB.time!='2019-03-31 05:00:00')&(df_ocs_fixedSM_AB.time!='2019-03-31 06:00:00')&(df_ocs_fixedSM_AB.time!='2019-03-31 07:00:00')&(\n",
    "    df_ocs_fixedSM_AB.time!='2019-03-31 08:00:00')&(df_ocs_fixedSM_AB.time!='2019-03-31 09:00:00')&(df_ocs_fixedSM_AB.time!='2019-03-31 10:00:00')&(\n",
    "    df_ocs_fixedSM_AB.time!='2019-03-31 11:00:00')&(df_ocs_fixedSM_AB.time!='2019-03-31 12:00:00')&(df_ocs_fixedSM_AB.time!='2019-03-31 13:00:00')&(\n",
    "    df_ocs_fixedSM_AB.time!='2019-03-31 14:00:00')&(df_ocs_fixedSM_AB.time!='2019-03-31 15:00:00')&(df_ocs_fixedSM_AB.time!='2019-03-31 16:00:00')&(\n",
    "    df_ocs_fixedSM_AB.time!='2019-03-31 17:00:00')&(df_ocs_fixedSM_AB.time!='2019-03-31 18:00:00')&(df_ocs_fixedSM_AB.time!='2019-03-31 19:00:00')&(\n",
    "    df_ocs_fixedSM_AB.time!='2019-03-31 20:00:00')&(df_ocs_fixedSM_AB.time!='2019-03-31 21:00:00')&(df_ocs_fixedSM_AB.time!='2019-03-31 22:00:00')&(\n",
    "    df_ocs_fixedSM_AB.time!='2019-03-31 23:00:00')]\n",
    "\n",
    "sm_ti_f_24hb = concat_spatial_composites(nfixedSM_land,df_stage_f_24hb[(\n",
    "    df_stage_f_24hb.stage=='t_i')&(df_stage_f_24hb.longitude>-76.5)&(df_stage_f_24hb.longitude<-55.5)],\n",
    "                                        dist=5,timelag=True,dt='24hours')"
   ]
  },
  {
   "cell_type": "code",
   "execution_count": 59,
   "metadata": {},
   "outputs": [],
   "source": [
    "sm_ti_f_24hb.to_netcdf('spatial_composites/sm_ti_f_24hb_5reg_notoprivr.nc'); "
   ]
  },
  {
   "cell_type": "code",
   "execution_count": 60,
   "metadata": {},
   "outputs": [],
   "source": [
    "deaccu_ti_f_24hb = concat_spatial_composites(fixedSM_deaccu[['tot_prec','acclhfl_s','accshfl_s']],df_stage_f_24hb[(\n",
    "    df_stage_f_24hb.stage=='t_i')&(df_stage_f_24hb.longitude>-76.5)&(df_stage_f_24hb.longitude<-55.5)],\n",
    "                                        dist=5,timelag=True,dt='24hours')"
   ]
  },
  {
   "cell_type": "code",
   "execution_count": 61,
   "metadata": {},
   "outputs": [],
   "source": [
    "deaccu_ti_f_24hb.to_netcdf('spatial_composites/deaccu_ti_f_24hb_5reg_notoprivr.nc'); "
   ]
  },
  {
   "cell_type": "code",
   "execution_count": 62,
   "metadata": {
    "tags": []
   },
   "outputs": [],
   "source": [
    "sfc_ti_f_24hb = concat_spatial_composites(fixedSM_sfc.where((ds_topo<=500)&(ds_landf==1),np.nan),df_stage_f_24hb[(\n",
    "     df_stage_f_24hb.stage=='t_i')&(df_stage_f_24hb.longitude>-76.5)&(df_stage_f_24hb.longitude<-55.5)],\n",
    "                                          dist=5,timelag=True,dt='24hours')"
   ]
  },
  {
   "cell_type": "code",
   "execution_count": 63,
   "metadata": {
    "tags": []
   },
   "outputs": [],
   "source": [
    "sfc_ti_f_24hb.to_netcdf('spatial_composites/sfc_ti_f_24hb_5reg_notoprivr.nc'); "
   ]
  }
 ],
 "metadata": {
  "kernelspec": {
   "display_name": "env_LP2",
   "language": "python",
   "name": "cloned_myenv"
  },
  "language_info": {
   "codemirror_mode": {
    "name": "ipython",
    "version": 3
   },
   "file_extension": ".py",
   "mimetype": "text/x-python",
   "name": "python",
   "nbconvert_exporter": "python",
   "pygments_lexer": "ipython3",
   "version": "3.9.13"
  }
 },
 "nbformat": 4,
 "nbformat_minor": 4
}
