{
 "cells": [
  {
   "cell_type": "code",
   "execution_count": 1,
   "id": "62c849d4-b53e-4d93-8381-93d24a13b883",
   "metadata": {
    "tags": []
   },
   "outputs": [],
   "source": [
    "import xarray as xr\n",
    "import numpy as np\n",
    "import matplotlib.pyplot as plt\n",
    "import pandas as pd\n",
    "from matplotlib import cm\n",
    "import dask"
   ]
  },
  {
   "cell_type": "code",
   "execution_count": 2,
   "id": "31b2cb0d",
   "metadata": {
    "tags": []
   },
   "outputs": [],
   "source": [
    "from open_experiment import control_deaccu,control_land, fixedSM_land, fixedSM_deaccu"
   ]
  },
  {
   "cell_type": "code",
   "execution_count": 3,
   "id": "42d13b63-9f8d-467a-be23-0b4cb95949f8",
   "metadata": {
    "tags": []
   },
   "outputs": [],
   "source": [
    "import object_detection as obj"
   ]
  },
  {
   "cell_type": "code",
   "execution_count": 4,
   "id": "10010f82-11c1-442e-a9c1-a06c93f6b7c8",
   "metadata": {
    "tags": []
   },
   "outputs": [],
   "source": [
    "# Disable a few warnings:\n",
    "import warnings\n",
    "warnings.filterwarnings('ignore', category=UserWarning, append=True)\n",
    "warnings.filterwarnings('ignore', category=RuntimeWarning, append=True)\n",
    "warnings.filterwarnings('ignore', category=FutureWarning, append=True)\n",
    "warnings.filterwarnings('ignore',category=pd.io.pytables.PerformanceWarning)"
   ]
  },
  {
   "cell_type": "code",
   "execution_count": 5,
   "id": "c3554af3",
   "metadata": {
    "tags": []
   },
   "outputs": [],
   "source": [
    "path='/scratch/wcq7pz/exp_levante_post/'\n",
    "## open topography, land_fraction\n",
    "topo5km = xr.open_dataset(path+'topography_dom03_5km.nc')\n",
    "topo5km.coords['lon'] = (topo5km.coords['lon'] + 180) % 360 - 180\n",
    "topo5km  = topo5km.sortby(topo5km.lon)\n",
    "\n",
    "frland=xr.open_dataset(path+'fr_land_dom03_5km.nc')\n",
    "frland.coords['lon'] = (frland.coords['lon'] + 180) % 360 - 180\n",
    "frland = frland.sortby(frland.lon)\n",
    "\n",
    "## READ AMAZON MASK\n",
    "onlyab = xr.open_dataset('onlyab5km.nc')\n",
    "maskAB = onlyab.interp(lat = topo5km.lat,lon = topo5km.lon)"
   ]
  },
  {
   "cell_type": "code",
   "execution_count": 6,
   "id": "b755b9f2",
   "metadata": {
    "tags": []
   },
   "outputs": [],
   "source": [
    "frland=xr.open_dataset(path+'fr_land_dom03_5km.nc'); frland.coords['lon'] = (frland.coords['lon'] + 180) % 360 - 180\n",
    "frland = frland.sortby(frland.lon)"
   ]
  },
  {
   "cell_type": "code",
   "execution_count": 7,
   "id": "fedb12e4",
   "metadata": {
    "tags": []
   },
   "outputs": [],
   "source": [
    "topo5km = xr.open_dataset(path+'topography_dom03_5km.nc')\n",
    "topo5km.coords['lon'] = (topo5km.coords['lon'] + 180) % 360 - 180\n",
    "topo5km  = topo5km.sortby(topo5km.lon)"
   ]
  },
  {
   "cell_type": "markdown",
   "id": "c7a9c615",
   "metadata": {},
   "source": [
    "## objects and datasets "
   ]
  },
  {
   "cell_type": "code",
   "execution_count": 8,
   "id": "74a220aa",
   "metadata": {
    "tags": []
   },
   "outputs": [],
   "source": [
    "grid_area = xr.open_dataset('gridarea_dom3p5.nc')\n",
    "grid_area.coords['lon'] = (grid_area.coords['lon'] + 180) % 360 - 180\n",
    "grid_area = grid_area.sortby(grid_area.lon)"
   ]
  },
  {
   "cell_type": "code",
   "execution_count": 9,
   "id": "dfddb497",
   "metadata": {
    "tags": []
   },
   "outputs": [],
   "source": [
    "## *************** Limits for Amazon region ***************\n",
    "xi=-80; xf=-50; yi=-21; yf=6; #del(grid_np,lon,lat)\n",
    "grid_np =  grid_area.sel(lon=slice(xi,xf),lat=slice(yi,yf)).cell_area.values / 1e6\n",
    "lon = control_deaccu.sel(lon=slice(xi,xf),lat=slice(yi,yf)).coords['lon'].values\n",
    "lat = control_deaccu.sel(lon=slice(xi,xf),lat=slice(yi,yf)).coords['lat'].values\n",
    "\n",
    "#precipitation \n",
    "array_control = np.squeeze(control_deaccu.tot_prec.where((maskAB.Band1>0),-1).sel(lon=slice(-80,-50),lat=slice(-21,6)).values)\n",
    "array_fixedSM = np.squeeze(fixedSM_deaccu.tot_prec.where((maskAB.Band1>0),-1).sel(lon=slice(-80,-50),lat=slice(-21,6)).values)\n",
    "\n",
    "#soil moisture \n",
    "arraySM_control = np.squeeze(control_land.isel(depth=slice(0,5)).sum('depth').w_so.where((maskAB.Band1>0),-1).sel(\n",
    "    lon=slice(-80,-50),lat=slice(-21,6)).values)\n",
    "arraySM_fixedSM = np.squeeze(fixedSM_land.isel(depth=slice(0,5)).sum('depth').w_so.where((maskAB.Band1>0),-1).sel(\n",
    "    lon=slice(-80,-50),lat=slice(-21,6)).values)"
   ]
  },
  {
   "cell_type": "code",
   "execution_count": 10,
   "id": "16c024ec",
   "metadata": {
    "tags": []
   },
   "outputs": [],
   "source": [
    "labels_control5k, df_control5k = obj.precip_objects(array_control,grid_np,lon1=lon,area_limit=2500,\n",
    "                                 lat1=lat,rr_limit=1,timeds=pd.Series(control_deaccu.time))\n",
    "labels_fixedSM5k, df_fixedSM5k = obj.precip_objects(array_fixedSM,grid_np,lon1=lon,area_limit=2500,\n",
    "                                 lat1=lat,rr_limit=1,timeds=pd.Series(fixedSM_deaccu.time))"
   ]
  },
  {
   "cell_type": "code",
   "execution_count": 11,
   "id": "f227f22d-f7ae-4231-b766-ae5ef118f475",
   "metadata": {
    "tags": []
   },
   "outputs": [],
   "source": [
    "df_SM_control5k = obj.SM_stats(array_control,arraySM_control,grid_np,lon1=lon,area_limit=2500,\n",
    "                                 lat1=lat,rr_limit=1,timeds=pd.Series(control_deaccu.time))\n",
    "df_SM_fixedSM5k = obj.SM_stats(array_fixedSM,arraySM_fixedSM,grid_np,lon1=lon,area_limit=2500,\n",
    "                                 lat1=lat,rr_limit=1,timeds=pd.Series(fixedSM_deaccu.time))"
   ]
  },
  {
   "cell_type": "code",
   "execution_count": 12,
   "id": "3685c751",
   "metadata": {
    "tags": []
   },
   "outputs": [],
   "source": [
    "def add_cols(df,dfsm):\n",
    "    df['time_zone'] = np.round(pd.to_numeric(df['longitude'],errors = 'coerce')/15)\n",
    "    df['local_time'] = df['time'] - (-1*df['time_zone']).astype('timedelta64[h]')\n",
    "    df['mean_ob'] = np.round(pd.to_numeric(df['mean'],errors='coerce'),2)\n",
    "    df['area_ob'] = np.round(pd.to_numeric(df['area'],errors='coerce'),2)\n",
    "    df['radius'] = np.sqrt(df.area_ob/np.pi)\n",
    "    df['mean_SM'] = pd.to_numeric(dfsm['mean'],errors = 'coerce')\n",
    "    df['max_SM'] = pd.to_numeric(dfsm['max'],errors = 'coerce')\n",
    "    df['std_SM'] = pd.to_numeric(dfsm['std'],errors = 'coerce')\n",
    "    return df"
   ]
  },
  {
   "cell_type": "code",
   "execution_count": 13,
   "id": "d30366a4-6000-472b-8745-32607dc3343c",
   "metadata": {
    "tags": []
   },
   "outputs": [],
   "source": [
    "df_control5k = add_cols(df_control5k,df_SM_control5k); \n",
    "df_fixedSM5k = add_cols(df_fixedSM5k,df_SM_fixedSM5k)\n",
    "\n",
    "df_control5k.to_pickle('df_ob_control5k_Amazon.pkl'); \n",
    "df_fixedSM5k.to_pickle('df_ob_fixedSM5k_Amazon.pkl')"
   ]
  },
  {
   "cell_type": "code",
   "execution_count": 14,
   "id": "6e55932f",
   "metadata": {
    "tags": []
   },
   "outputs": [],
   "source": [
    "## *************** Limits for SESA region  ***************\n",
    "xi=-64; xf=-50; yi=-26; yf=-15; del(grid_np,lon,lat)\n",
    "grid_np =  grid_area.sel(lon=slice(xi,xf),lat=slice(yi,yf)).cell_area.values / 1e6\n",
    "lon = control_deaccu.sel(lon=slice(xi,xf),lat=slice(yi,yf)).coords['lon'].values\n",
    "lat = control_deaccu.sel(lon=slice(xi,xf),lat=slice(yi,yf)).coords['lat'].values\n",
    "\n",
    "#Precipitation\n",
    "del(array_control,array_fixedSM)\n",
    "array_sesa = (control_deaccu.tot_prec.sel(lon=slice(xi,xf),lat=slice(yi,yf)))\n",
    "# Check if all grid points for each time step are equal to 0\n",
    "all_zeros = (array_sesa == 0).all(dim=('lat', 'lon'))\n",
    "# Replace the grid points with 1 where all values are 0\n",
    "array_sesa = array_sesa.where(~all_zeros, 1)\n",
    "array_control = array_sesa.values\n",
    "\n",
    "array_fsesa = (fixedSM_deaccu.tot_prec.sel(lon=slice(xi,xf),lat=slice(yi,yf)))\n",
    "all_fzeros = (array_fsesa == 0).all(dim=('lat', 'lon'))\n",
    "# Replace the grid points with 1 where all values are 0\n",
    "array_fsesa = array_fsesa.where(~all_fzeros, 1)\n",
    "array_fixedSM = array_fsesa.values\n",
    "\n",
    "#Soil moisture\n",
    "del(arraySM_control,arraySM_fixedSM)\n",
    "arraySM_control = np.squeeze(control_land.isel(depth=slice(0,5)).sum('depth').w_so.where((frland.fr_land>0),-1).sel(\n",
    "    lon=slice(xi,xf),lat=slice(yi,yf)).values)\n",
    "arraySM_fixedSM = np.squeeze(fixedSM_land.isel(depth=slice(0,5)).sum('depth').w_so.where((frland.fr_land>0),-1).sel(\n",
    "    lon=slice(xi,xf),lat=slice(yi,yf)).values)"
   ]
  },
  {
   "cell_type": "code",
   "execution_count": 15,
   "id": "d35da640",
   "metadata": {
    "tags": []
   },
   "outputs": [],
   "source": [
    "labels_control5k_sesa, df_control5k_sesa = obj.precip_objects(array_control,grid_np,lon1=lon,area_limit=2500,\n",
    "                                 lat1=lat,rr_limit=1,timeds=pd.Series(control_deaccu.time))\n",
    "labels_fixedSM5k_sesa, df_fixedSM5k_sesa = obj.precip_objects(array_fixedSM,grid_np,lon1=lon,area_limit=2500,\n",
    "                                 lat1=lat,rr_limit=1,timeds=pd.Series(fixedSM_deaccu.time))"
   ]
  },
  {
   "cell_type": "code",
   "execution_count": 16,
   "id": "35460201-3aa2-495a-abfb-b9abac40b4fc",
   "metadata": {
    "tags": []
   },
   "outputs": [],
   "source": [
    "df_SM_control5k_sesa = obj.SM_stats(array_control,arraySM_control,grid_np,lon1=lon,area_limit=2500,\n",
    "                                 lat1=lat,rr_limit=1,timeds=pd.Series(control_deaccu.time))\n",
    "df_SM_fixedSM5k_sesa = obj.SM_stats(array_fixedSM,arraySM_fixedSM,grid_np,lon1=lon,area_limit=2500,\n",
    "                                 lat1=lat,rr_limit=1,timeds=pd.Series(fixedSM_deaccu.time))"
   ]
  },
  {
   "cell_type": "code",
   "execution_count": 23,
   "id": "2f818295-0c05-43b5-ad6f-66ecf51bfa59",
   "metadata": {
    "tags": []
   },
   "outputs": [],
   "source": [
    "### ********* SESA **********\n",
    "df_control5k_sesa = add_cols(df_control5k_sesa,df_SM_control5k_sesa); \n",
    "df_fixedSM5k_sesa = add_cols(df_fixedSM5k_sesa,df_SM_fixedSM5k_sesa)\n",
    "\n",
    "df_control5k_sesa.to_pickle('df_ob_control5k_SESA.pkl'); \n",
    "df_fixedSM5k_sesa.to_pickle('df_ob_fixedSM5k_SESA.pkl')"
   ]
  },
  {
   "cell_type": "code",
   "execution_count": 18,
   "id": "cab3a36a",
   "metadata": {
    "tags": []
   },
   "outputs": [],
   "source": [
    "#df_SM_control5k"
   ]
  },
  {
   "cell_type": "code",
   "execution_count": 19,
   "id": "42440e22",
   "metadata": {
    "tags": []
   },
   "outputs": [],
   "source": [
    "# create masks for OCS \n",
    "mask_labels_5k_c = [np.where(labels_control5k[i]!=0,1,labels_control5k[i]) for i in range(np.size(labels_control5k,0))]\n",
    "mask_labels_5k_fSM = [np.where(labels_fixedSM5k[i]!=0,1,labels_fixedSM5k[i]) for i in range(np.size(labels_fixedSM5k,0))]"
   ]
  },
  {
   "cell_type": "code",
   "execution_count": 20,
   "id": "879b470d",
   "metadata": {
    "tags": []
   },
   "outputs": [],
   "source": [
    "# create masks for OCS ****SESA\n",
    "mask_labels_5k_c_sesa = [np.where(labels_control5k_sesa[i]!=0,1,labels_control5k_sesa[i]) for i in range(np.size(labels_control5k,0))]\n",
    "mask_labels_5k_fSM_sesa = [np.where(labels_fixedSM5k_sesa[i]!=0,1,labels_fixedSM5k_sesa[i]) for i in range(np.size(labels_fixedSM5k,0))]"
   ]
  },
  {
   "cell_type": "code",
   "execution_count": 21,
   "id": "c454a033",
   "metadata": {
    "tags": []
   },
   "outputs": [],
   "source": [
    "# create datasets for OCS mask and labels\n",
    "ds_ob_control = xr.Dataset(\n",
    "    { \"mask_obs\": ([\"time\", \"lat\", \"lon\"], mask_labels_5k_c),\"labels_ocs\": ([\"time\", \"lat\", \"lon\"], labels_control5k)},\n",
    "    coords={ \"time\": control_deaccu.time, \n",
    "            \"lat\": ([\"lat\"], control_deaccu.sel(lat=slice(-21,6)).lat.values),\n",
    "            \"lon\": ([\"lon\"], control_deaccu.sel(lon=slice(-80,-50)).lon.values)})\n",
    "ds_ob_fixedSM = xr.Dataset(\n",
    "    { \"mask_obs\": ([\"time\", \"lat\", \"lon\"], mask_labels_5k_fSM),\"labels_ocs\": ([\"time\", \"lat\", \"lon\"], labels_fixedSM5k)},\n",
    "    coords={ \"time\": fixedSM_deaccu.time, \n",
    "            \"lat\": ([\"lat\"], fixedSM_deaccu.sel(lat=slice(-21,6)).lat.values),\n",
    "            \"lon\": ([\"lon\"], fixedSM_deaccu.sel(lon=slice(-80,-50)).lon.values)})\n",
    "\n",
    "ds_ob_control.to_netcdf('ds_ob_control5k_Amazon.nc') \n",
    "ds_ob_fixedSM.to_netcdf('ds_ob_fixedSM5k_Amazon.nc')"
   ]
  },
  {
   "cell_type": "code",
   "execution_count": 22,
   "id": "bf680ae6",
   "metadata": {
    "tags": []
   },
   "outputs": [],
   "source": [
    "# create datasets for OCS mask and labels ************** SESA ***************\n",
    "ds_ob_control_sesa = xr.Dataset(\n",
    "    { \"mask_obs\": ([\"time\", \"lat\", \"lon\"], mask_labels_5k_c_sesa),\"labels_ocs\": ([\"time\", \"lat\", \"lon\"], labels_control5k_sesa)},\n",
    "    coords={ \"time\": control_deaccu.time, \n",
    "            \"lat\": ([\"lat\"], control_deaccu.sel(lat=slice(yi,yf)).lat.values),\n",
    "            \"lon\": ([\"lon\"], control_deaccu.sel(lon=slice(xi,xf)).lon.values)})\n",
    "ds_ob_fixedSM_sesa = xr.Dataset(\n",
    "    { \"mask_obs\": ([\"time\", \"lat\", \"lon\"], mask_labels_5k_fSM_sesa),\"labels_ocs\": ([\"time\", \"lat\", \"lon\"], labels_fixedSM5k_sesa)},\n",
    "    coords={ \"time\": fixedSM_deaccu.time, \n",
    "            \"lat\": ([\"lat\"], fixedSM_deaccu.sel(lat=slice(yi,yf)).lat.values),\n",
    "            \"lon\": ([\"lon\"], fixedSM_deaccu.sel(lon=slice(xi,xf)).lon.values)})\n",
    "\n",
    "ds_ob_control_sesa.to_netcdf('ds_ob_control5k_SESA.nc') \n",
    "ds_ob_fixedSM_sesa.to_netcdf('ds_ob_fixedSM5k_SESA.nc')"
   ]
  }
 ],
 "metadata": {
  "kernelspec": {
   "display_name": "env_LP2",
   "language": "python",
   "name": "cloned_myenv"
  },
  "language_info": {
   "codemirror_mode": {
    "name": "ipython",
    "version": 3
   },
   "file_extension": ".py",
   "mimetype": "text/x-python",
   "name": "python",
   "nbconvert_exporter": "python",
   "pygments_lexer": "ipython3",
   "version": "3.9.13"
  }
 },
 "nbformat": 4,
 "nbformat_minor": 5
}
